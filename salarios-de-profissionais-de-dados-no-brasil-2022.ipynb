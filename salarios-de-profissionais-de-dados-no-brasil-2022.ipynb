{
 "cells": [
  {
   "cell_type": "markdown",
   "id": "ca9ede7b",
   "metadata": {
    "papermill": {
     "duration": 0.015065,
     "end_time": "2024-03-23T02:10:19.566576",
     "exception": false,
     "start_time": "2024-03-23T02:10:19.551511",
     "status": "completed"
    },
    "tags": []
   },
   "source": [
    "# **Análise exploratória das remunerações dos profissionais de dados no Brasil em 2022**\n",
    "<br>\n",
    "\n",
    "\n",
    "---"
   ]
  },
  {
   "cell_type": "markdown",
   "id": "8089beb4",
   "metadata": {
    "papermill": {
     "duration": 0.013532,
     "end_time": "2024-03-23T02:10:19.594675",
     "exception": false,
     "start_time": "2024-03-23T02:10:19.581143",
     "status": "completed"
    },
    "tags": []
   },
   "source": [
    "# 1\\. Introdução"
   ]
  },
  {
   "cell_type": "markdown",
   "id": "357f48a5",
   "metadata": {
    "papermill": {
     "duration": 0.013367,
     "end_time": "2024-03-23T02:10:19.621743",
     "exception": false,
     "start_time": "2024-03-23T02:10:19.608376",
     "status": "completed"
    },
    "tags": []
   },
   "source": [
    "### 1\\.1\\. Contexto\n",
    "\n",
    "A **State of Data Brazil**, realizada pelo [Data Hackers](https://www.datahackers.com.br/) e pela [Bain & Company](https://www.bain.com/), é uma das maiores pesquisas sobre o mercado brasileiro de dados.<br><br>\n",
    "Dentre os assuntos pesquisados na pesquisa de 2022, foi mapeado o perfil atual das três maiores profissões da área de dados do Brasil: **Analista de dados, Cientista de dados e Engenheiro de dados**."
   ]
  },
  {
   "cell_type": "markdown",
   "id": "9366bacc",
   "metadata": {
    "papermill": {
     "duration": 0.014669,
     "end_time": "2024-03-23T02:10:19.650011",
     "exception": false,
     "start_time": "2024-03-23T02:10:19.635342",
     "status": "completed"
    },
    "tags": []
   },
   "source": [
    "### 1\\.2\\. Objetivo\n",
    "\n",
    "Examinar como os **salários estão distribuídos** para os profissionais de três níveis de experiência, **júnior, pleno e sênior**, que ocupam as posições de **analista, cientista e engenheiro de dados.**"
   ]
  },
  {
   "cell_type": "markdown",
   "id": "d07985a5",
   "metadata": {
    "papermill": {
     "duration": 0.013501,
     "end_time": "2024-03-23T02:10:19.678568",
     "exception": false,
     "start_time": "2024-03-23T02:10:19.665067",
     "status": "completed"
    },
    "tags": []
   },
   "source": [
    "# 2\\. Dados"
   ]
  },
  {
   "cell_type": "markdown",
   "id": "82a55ead",
   "metadata": {
    "papermill": {
     "duration": 0.014728,
     "end_time": "2024-03-23T02:10:19.707278",
     "exception": false,
     "start_time": "2024-03-23T02:10:19.692550",
     "status": "completed"
    },
    "tags": []
   },
   "source": [
    "### 2\\.1\\. Descrição\n",
    "\n",
    "Os dados foram disponibilizados pelo site do [Kaggle](https://www.kaggle.com/), está em formato **CSV** e possui em torno de **10 MB**.\n",
    "\n",
    "A pesquisa, realizada de outubro a novembro de 2022 por meio de um **questionário online**, coletou dados demográficos, educacionais, profissionais, salariais e de satisfação no trabalho de **4.271 respondentes** em todo o Brasil. \n",
    "\n",
    "A amostra incluiu profissionais de diferentes funções, como **analistas, cientistas e engenheiros de dados**, abrangendo diversos níveis de experiência, **desde júnior até gestores**."
   ]
  },
  {
   "cell_type": "markdown",
   "id": "9abd72c7",
   "metadata": {
    "papermill": {
     "duration": 0.013972,
     "end_time": "2024-03-23T02:10:19.734912",
     "exception": false,
     "start_time": "2024-03-23T02:10:19.720940",
     "status": "completed"
    },
    "tags": []
   },
   "source": [
    "### 2\\.2\\. Acesso e utilização dos dados\n",
    "\n",
    "Foi acessado o site do **Kaggle**, realizado o download do arquivo através desse [link](https://www.kaggle.com/datasets/datahackers/state-of-data-2022), feito o upload do computador para o ambiente do [Google Colab](https://colab.research.google.com/), onde foi efetivamente idealizado o projeto, e finalmente o notebook foi importado para o Kaggle."
   ]
  },
  {
   "cell_type": "markdown",
   "id": "c038f963",
   "metadata": {
    "papermill": {
     "duration": 0.013974,
     "end_time": "2024-03-23T02:10:19.762635",
     "exception": false,
     "start_time": "2024-03-23T02:10:19.748661",
     "status": "completed"
    },
    "tags": []
   },
   "source": [
    "# 3\\. Processamento"
   ]
  },
  {
   "cell_type": "markdown",
   "id": "fbcb60b3",
   "metadata": {
    "papermill": {
     "duration": 0.013397,
     "end_time": "2024-03-23T02:10:19.789715",
     "exception": false,
     "start_time": "2024-03-23T02:10:19.776318",
     "status": "completed"
    },
    "tags": []
   },
   "source": [
    "## 3\\.1\\. Leitura"
   ]
  },
  {
   "cell_type": "code",
   "execution_count": 1,
   "id": "a0368285",
   "metadata": {
    "execution": {
     "iopub.execute_input": "2024-03-23T02:10:19.819080Z",
     "iopub.status.busy": "2024-03-23T02:10:19.818704Z",
     "iopub.status.idle": "2024-03-23T02:10:22.480978Z",
     "shell.execute_reply": "2024-03-23T02:10:22.479617Z"
    },
    "papermill": {
     "duration": 2.681038,
     "end_time": "2024-03-23T02:10:22.484338",
     "exception": false,
     "start_time": "2024-03-23T02:10:19.803300",
     "status": "completed"
    },
    "tags": []
   },
   "outputs": [],
   "source": [
    "import pandas as pd\n",
    "import seaborn as sns\n",
    "import os"
   ]
  },
  {
   "cell_type": "code",
   "execution_count": 2,
   "id": "bb2419a6",
   "metadata": {
    "execution": {
     "iopub.execute_input": "2024-03-23T02:10:22.514551Z",
     "iopub.status.busy": "2024-03-23T02:10:22.513971Z",
     "iopub.status.idle": "2024-03-23T02:10:22.529531Z",
     "shell.execute_reply": "2024-03-23T02:10:22.528045Z"
    },
    "papermill": {
     "duration": 0.033229,
     "end_time": "2024-03-23T02:10:22.531870",
     "exception": false,
     "start_time": "2024-03-23T02:10:22.498641",
     "status": "completed"
    },
    "tags": []
   },
   "outputs": [
    {
     "name": "stdout",
     "output_type": "stream",
     "text": [
      "/kaggle/input/state-of-data-2022/State_of_data_2022.csv\n"
     ]
    }
   ],
   "source": [
    "dataset = '/kaggle/input/state-of-data-2022/'\n",
    "\n",
    "for dirname, _, filenames in os.walk(dataset):\n",
    "    for filename in filenames:\n",
    "        print(os.path.join(dirname, filename))"
   ]
  },
  {
   "cell_type": "code",
   "execution_count": 3,
   "id": "b9cf975b",
   "metadata": {
    "execution": {
     "iopub.execute_input": "2024-03-23T02:10:22.561707Z",
     "iopub.status.busy": "2024-03-23T02:10:22.560936Z",
     "iopub.status.idle": "2024-03-23T02:10:22.789604Z",
     "shell.execute_reply": "2024-03-23T02:10:22.788633Z"
    },
    "papermill": {
     "duration": 0.246903,
     "end_time": "2024-03-23T02:10:22.792521",
     "exception": false,
     "start_time": "2024-03-23T02:10:22.545618",
     "status": "completed"
    },
    "tags": []
   },
   "outputs": [],
   "source": [
    "data = list()\n",
    "\n",
    "with open(file=\"/kaggle/input/state-of-data-2022/State_of_data_2022.csv\", mode=\"r\") as fp:\n",
    "  header = fp.readline()\n",
    "  line = fp.readline()\n",
    "\n",
    "  while line:\n",
    "    line = line.split(sep=',')\n",
    "    data.append({\"Cargo\": line[21], \"Experiência\": line[22], \"Salário\": line[23]})\n",
    "    line = fp.readline()\n",
    "\n",
    "data_table = pd.DataFrame(data)"
   ]
  },
  {
   "cell_type": "code",
   "execution_count": 4,
   "id": "a9d01055",
   "metadata": {
    "execution": {
     "iopub.execute_input": "2024-03-23T02:10:22.823220Z",
     "iopub.status.busy": "2024-03-23T02:10:22.822423Z",
     "iopub.status.idle": "2024-03-23T02:10:22.842952Z",
     "shell.execute_reply": "2024-03-23T02:10:22.841612Z"
    },
    "papermill": {
     "duration": 0.038796,
     "end_time": "2024-03-23T02:10:22.845508",
     "exception": false,
     "start_time": "2024-03-23T02:10:22.806712",
     "status": "completed"
    },
    "tags": []
   },
   "outputs": [
    {
     "data": {
      "text/html": [
       "<div>\n",
       "<style scoped>\n",
       "    .dataframe tbody tr th:only-of-type {\n",
       "        vertical-align: middle;\n",
       "    }\n",
       "\n",
       "    .dataframe tbody tr th {\n",
       "        vertical-align: top;\n",
       "    }\n",
       "\n",
       "    .dataframe thead th {\n",
       "        text-align: right;\n",
       "    }\n",
       "</style>\n",
       "<table border=\"1\" class=\"dataframe\">\n",
       "  <thead>\n",
       "    <tr style=\"text-align: right;\">\n",
       "      <th></th>\n",
       "      <th>Cargo</th>\n",
       "      <th>Experiência</th>\n",
       "      <th>Salário</th>\n",
       "    </tr>\n",
       "  </thead>\n",
       "  <tbody>\n",
       "    <tr>\n",
       "      <th>0</th>\n",
       "      <td>DBA/Administrador de Banco de Dados</td>\n",
       "      <td>Júnior</td>\n",
       "      <td>de R$ 8.001/mês a R$ 12.000/mês</td>\n",
       "    </tr>\n",
       "    <tr>\n",
       "      <th>1</th>\n",
       "      <td>Supervisor/Coordenador</td>\n",
       "      <td></td>\n",
       "      <td></td>\n",
       "    </tr>\n",
       "    <tr>\n",
       "      <th>2</th>\n",
       "      <td>Desenvolvedor/ Engenheiro de Software/ Analist...</td>\n",
       "      <td>Pleno</td>\n",
       "      <td>de R$ 12.001/mês a R$ 16.000/mês</td>\n",
       "    </tr>\n",
       "    <tr>\n",
       "      <th>3</th>\n",
       "      <td>Cientista de Dados/Data Scientist</td>\n",
       "      <td>Sênior</td>\n",
       "      <td>de R$ 12.001/mês a R$ 16.000/mês</td>\n",
       "    </tr>\n",
       "    <tr>\n",
       "      <th>4</th>\n",
       "      <td>Desenvolvedor/ Engenheiro de Software/ Analist...</td>\n",
       "      <td>Pleno</td>\n",
       "      <td>de R$ 6.001/mês a R$ 8.000/mês</td>\n",
       "    </tr>\n",
       "    <tr>\n",
       "      <th>5</th>\n",
       "      <td>Professor</td>\n",
       "      <td>Pleno</td>\n",
       "      <td>de R$ 2.001/mês a R$ 3.000/mês</td>\n",
       "    </tr>\n",
       "    <tr>\n",
       "      <th>6</th>\n",
       "      <td>Analista de BI/BI Analyst</td>\n",
       "      <td>Júnior</td>\n",
       "      <td>de R$ 4.001/mês a R$ 6.000/mês</td>\n",
       "    </tr>\n",
       "    <tr>\n",
       "      <th>7</th>\n",
       "      <td>Desenvolvedor/ Engenheiro de Software/ Analist...</td>\n",
       "      <td>Júnior</td>\n",
       "      <td>de R$ 2.001/mês a R$ 3.000/mês</td>\n",
       "    </tr>\n",
       "    <tr>\n",
       "      <th>8</th>\n",
       "      <td>Analista de BI/BI Analyst</td>\n",
       "      <td>Sênior</td>\n",
       "      <td>de R$ 6.001/mês a R$ 8.000/mês</td>\n",
       "    </tr>\n",
       "    <tr>\n",
       "      <th>9</th>\n",
       "      <td>Professor</td>\n",
       "      <td>Pleno</td>\n",
       "      <td>de R$ 8.001/mês a R$ 12.000/mês</td>\n",
       "    </tr>\n",
       "    <tr>\n",
       "      <th>10</th>\n",
       "      <td>Analista de BI/BI Analyst</td>\n",
       "      <td>Júnior</td>\n",
       "      <td>de R$ 3.001/mês a R$ 4.000/mês</td>\n",
       "    </tr>\n",
       "    <tr>\n",
       "      <th>11</th>\n",
       "      <td>Analista de Inteligência de Mercado/Market Int...</td>\n",
       "      <td>Sênior</td>\n",
       "      <td>de R$ 8.001/mês a R$ 12.000/mês</td>\n",
       "    </tr>\n",
       "    <tr>\n",
       "      <th>12</th>\n",
       "      <td></td>\n",
       "      <td></td>\n",
       "      <td></td>\n",
       "    </tr>\n",
       "    <tr>\n",
       "      <th>13</th>\n",
       "      <td>Analista de Negócios/Business Analyst</td>\n",
       "      <td>Júnior</td>\n",
       "      <td>de R$ 4.001/mês a R$ 6.000/mês</td>\n",
       "    </tr>\n",
       "    <tr>\n",
       "      <th>14</th>\n",
       "      <td>Varejo</td>\n",
       "      <td>Acima de 3.000</td>\n",
       "      <td>FALSE</td>\n",
       "    </tr>\n",
       "  </tbody>\n",
       "</table>\n",
       "</div>"
      ],
      "text/plain": [
       "                                                Cargo     Experiência  \\\n",
       "0                 DBA/Administrador de Banco de Dados          Júnior   \n",
       "1                              Supervisor/Coordenador                   \n",
       "2   Desenvolvedor/ Engenheiro de Software/ Analist...           Pleno   \n",
       "3                   Cientista de Dados/Data Scientist          Sênior   \n",
       "4   Desenvolvedor/ Engenheiro de Software/ Analist...           Pleno   \n",
       "5                                           Professor           Pleno   \n",
       "6                           Analista de BI/BI Analyst          Júnior   \n",
       "7   Desenvolvedor/ Engenheiro de Software/ Analist...          Júnior   \n",
       "8                           Analista de BI/BI Analyst          Sênior   \n",
       "9                                           Professor           Pleno   \n",
       "10                          Analista de BI/BI Analyst          Júnior   \n",
       "11  Analista de Inteligência de Mercado/Market Int...          Sênior   \n",
       "12                                                                      \n",
       "13              Analista de Negócios/Business Analyst          Júnior   \n",
       "14                                             Varejo  Acima de 3.000   \n",
       "\n",
       "                             Salário  \n",
       "0    de R$ 8.001/mês a R$ 12.000/mês  \n",
       "1                                     \n",
       "2   de R$ 12.001/mês a R$ 16.000/mês  \n",
       "3   de R$ 12.001/mês a R$ 16.000/mês  \n",
       "4     de R$ 6.001/mês a R$ 8.000/mês  \n",
       "5     de R$ 2.001/mês a R$ 3.000/mês  \n",
       "6     de R$ 4.001/mês a R$ 6.000/mês  \n",
       "7     de R$ 2.001/mês a R$ 3.000/mês  \n",
       "8     de R$ 6.001/mês a R$ 8.000/mês  \n",
       "9    de R$ 8.001/mês a R$ 12.000/mês  \n",
       "10    de R$ 3.001/mês a R$ 4.000/mês  \n",
       "11   de R$ 8.001/mês a R$ 12.000/mês  \n",
       "12                                    \n",
       "13    de R$ 4.001/mês a R$ 6.000/mês  \n",
       "14                             FALSE  "
      ]
     },
     "execution_count": 4,
     "metadata": {},
     "output_type": "execute_result"
    }
   ],
   "source": [
    "data_table.head(n=15)"
   ]
  },
  {
   "cell_type": "code",
   "execution_count": 5,
   "id": "561a5790",
   "metadata": {
    "execution": {
     "iopub.execute_input": "2024-03-23T02:10:22.876035Z",
     "iopub.status.busy": "2024-03-23T02:10:22.875656Z",
     "iopub.status.idle": "2024-03-23T02:10:22.882403Z",
     "shell.execute_reply": "2024-03-23T02:10:22.881253Z"
    },
    "papermill": {
     "duration": 0.024961,
     "end_time": "2024-03-23T02:10:22.884927",
     "exception": false,
     "start_time": "2024-03-23T02:10:22.859966",
     "status": "completed"
    },
    "tags": []
   },
   "outputs": [
    {
     "data": {
      "text/plain": [
       "(4271, 3)"
      ]
     },
     "execution_count": 5,
     "metadata": {},
     "output_type": "execute_result"
    }
   ],
   "source": [
    "data_table.shape"
   ]
  },
  {
   "cell_type": "markdown",
   "id": "cd47c830",
   "metadata": {
    "papermill": {
     "duration": 0.014341,
     "end_time": "2024-03-23T02:10:22.913551",
     "exception": false,
     "start_time": "2024-03-23T02:10:22.899210",
     "status": "completed"
    },
    "tags": []
   },
   "source": [
    "### 3\\.2\\. Limpeza"
   ]
  },
  {
   "cell_type": "markdown",
   "id": "f38bd6af",
   "metadata": {
    "papermill": {
     "duration": 0.013914,
     "end_time": "2024-03-23T02:10:22.941758",
     "exception": false,
     "start_time": "2024-03-23T02:10:22.927844",
     "status": "completed"
    },
    "tags": []
   },
   "source": [
    "Removemos os valores faltantes."
   ]
  },
  {
   "cell_type": "code",
   "execution_count": 6,
   "id": "6550db6b",
   "metadata": {
    "execution": {
     "iopub.execute_input": "2024-03-23T02:10:22.972435Z",
     "iopub.status.busy": "2024-03-23T02:10:22.971755Z",
     "iopub.status.idle": "2024-03-23T02:10:22.991353Z",
     "shell.execute_reply": "2024-03-23T02:10:22.990347Z"
    },
    "papermill": {
     "duration": 0.037832,
     "end_time": "2024-03-23T02:10:22.993841",
     "exception": false,
     "start_time": "2024-03-23T02:10:22.956009",
     "status": "completed"
    },
    "tags": []
   },
   "outputs": [
    {
     "data": {
      "text/plain": [
       "(2790, 3)"
      ]
     },
     "execution_count": 6,
     "metadata": {},
     "output_type": "execute_result"
    }
   ],
   "source": [
    "data_table = data_table.replace('', pd.NA)\n",
    "\n",
    "data_table = data_table.dropna()\n",
    "\n",
    "data_table.shape"
   ]
  },
  {
   "cell_type": "markdown",
   "id": "a9da6014",
   "metadata": {
    "papermill": {
     "duration": 0.014308,
     "end_time": "2024-03-23T02:10:23.023344",
     "exception": false,
     "start_time": "2024-03-23T02:10:23.009036",
     "status": "completed"
    },
    "tags": []
   },
   "source": [
    "Removemos as linhas corrompidas."
   ]
  },
  {
   "cell_type": "code",
   "execution_count": 7,
   "id": "3c6a61f8",
   "metadata": {
    "execution": {
     "iopub.execute_input": "2024-03-23T02:10:23.055080Z",
     "iopub.status.busy": "2024-03-23T02:10:23.053840Z",
     "iopub.status.idle": "2024-03-23T02:10:23.070129Z",
     "shell.execute_reply": "2024-03-23T02:10:23.068910Z"
    },
    "papermill": {
     "duration": 0.034663,
     "end_time": "2024-03-23T02:10:23.072635",
     "exception": false,
     "start_time": "2024-03-23T02:10:23.037972",
     "status": "completed"
    },
    "tags": []
   },
   "outputs": [
    {
     "data": {
      "text/plain": [
       "(2386, 3)"
      ]
     },
     "execution_count": 7,
     "metadata": {},
     "output_type": "execute_result"
    }
   ],
   "source": [
    "data_table['Salário'] = data_table['Salário'].apply(lambda row: row if 'R$' in row else pd.NA)\n",
    "\n",
    "data_table = data_table.dropna()\n",
    "\n",
    "data_table.shape"
   ]
  },
  {
   "cell_type": "markdown",
   "id": "21c81926",
   "metadata": {
    "papermill": {
     "duration": 0.014864,
     "end_time": "2024-03-23T02:10:23.102255",
     "exception": false,
     "start_time": "2024-03-23T02:10:23.087391",
     "status": "completed"
    },
    "tags": []
   },
   "source": [
    "Selecionamos as linhas com os cargos de interesse."
   ]
  },
  {
   "cell_type": "code",
   "execution_count": 8,
   "id": "70277c05",
   "metadata": {
    "execution": {
     "iopub.execute_input": "2024-03-23T02:10:23.134006Z",
     "iopub.status.busy": "2024-03-23T02:10:23.133370Z",
     "iopub.status.idle": "2024-03-23T02:10:23.145128Z",
     "shell.execute_reply": "2024-03-23T02:10:23.143940Z"
    },
    "papermill": {
     "duration": 0.030311,
     "end_time": "2024-03-23T02:10:23.147572",
     "exception": false,
     "start_time": "2024-03-23T02:10:23.117261",
     "status": "completed"
    },
    "tags": []
   },
   "outputs": [
    {
     "data": {
      "text/plain": [
       "(1336, 3)"
      ]
     },
     "execution_count": 8,
     "metadata": {},
     "output_type": "execute_result"
    }
   ],
   "source": [
    "positions = [\n",
    "    'Analista de Dados/Data Analyst',\n",
    "    'Cientista de Dados/Data Scientist',\n",
    "    'Engenheiro de Dados/Arquiteto de Dados/Data Engineer/Data Architect'\n",
    "    ]\n",
    "\n",
    "data_table['Cargo'] = data_table['Cargo'].apply(lambda row: row if row in positions else pd.NA)\n",
    "\n",
    "data_table = data_table.dropna()\n",
    "\n",
    "data_table.shape"
   ]
  },
  {
   "cell_type": "markdown",
   "id": "e1cd3017",
   "metadata": {
    "papermill": {
     "duration": 0.014523,
     "end_time": "2024-03-23T02:10:23.176823",
     "exception": false,
     "start_time": "2024-03-23T02:10:23.162300",
     "status": "completed"
    },
    "tags": []
   },
   "source": [
    "Renomeamos os cargos."
   ]
  },
  {
   "cell_type": "code",
   "execution_count": 9,
   "id": "249a8739",
   "metadata": {
    "execution": {
     "iopub.execute_input": "2024-03-23T02:10:23.208610Z",
     "iopub.status.busy": "2024-03-23T02:10:23.208212Z",
     "iopub.status.idle": "2024-03-23T02:10:23.223629Z",
     "shell.execute_reply": "2024-03-23T02:10:23.222518Z"
    },
    "papermill": {
     "duration": 0.034471,
     "end_time": "2024-03-23T02:10:23.225984",
     "exception": false,
     "start_time": "2024-03-23T02:10:23.191513",
     "status": "completed"
    },
    "tags": []
   },
   "outputs": [
    {
     "data": {
      "text/html": [
       "<div>\n",
       "<style scoped>\n",
       "    .dataframe tbody tr th:only-of-type {\n",
       "        vertical-align: middle;\n",
       "    }\n",
       "\n",
       "    .dataframe tbody tr th {\n",
       "        vertical-align: top;\n",
       "    }\n",
       "\n",
       "    .dataframe thead th {\n",
       "        text-align: right;\n",
       "    }\n",
       "</style>\n",
       "<table border=\"1\" class=\"dataframe\">\n",
       "  <thead>\n",
       "    <tr style=\"text-align: right;\">\n",
       "      <th></th>\n",
       "      <th>Cargo</th>\n",
       "      <th>Experiência</th>\n",
       "      <th>Salário</th>\n",
       "    </tr>\n",
       "  </thead>\n",
       "  <tbody>\n",
       "    <tr>\n",
       "      <th>3</th>\n",
       "      <td>Cientista</td>\n",
       "      <td>Sênior</td>\n",
       "      <td>de R$ 12.001/mês a R$ 16.000/mês</td>\n",
       "    </tr>\n",
       "    <tr>\n",
       "      <th>18</th>\n",
       "      <td>Engenheiro</td>\n",
       "      <td>Pleno</td>\n",
       "      <td>de R$ 6.001/mês a R$ 8.000/mês</td>\n",
       "    </tr>\n",
       "    <tr>\n",
       "      <th>23</th>\n",
       "      <td>Engenheiro</td>\n",
       "      <td>Sênior</td>\n",
       "      <td>de R$ 12.001/mês a R$ 16.000/mês</td>\n",
       "    </tr>\n",
       "    <tr>\n",
       "      <th>29</th>\n",
       "      <td>Cientista</td>\n",
       "      <td>Júnior</td>\n",
       "      <td>de R$ 8.001/mês a R$ 12.000/mês</td>\n",
       "    </tr>\n",
       "    <tr>\n",
       "      <th>30</th>\n",
       "      <td>Analista</td>\n",
       "      <td>Júnior</td>\n",
       "      <td>de R$ 3.001/mês a R$ 4.000/mês</td>\n",
       "    </tr>\n",
       "    <tr>\n",
       "      <th>31</th>\n",
       "      <td>Engenheiro</td>\n",
       "      <td>Júnior</td>\n",
       "      <td>de R$ 2.001/mês a R$ 3.000/mês</td>\n",
       "    </tr>\n",
       "    <tr>\n",
       "      <th>37</th>\n",
       "      <td>Engenheiro</td>\n",
       "      <td>Júnior</td>\n",
       "      <td>de R$ 2.001/mês a R$ 3.000/mês</td>\n",
       "    </tr>\n",
       "    <tr>\n",
       "      <th>41</th>\n",
       "      <td>Engenheiro</td>\n",
       "      <td>Júnior</td>\n",
       "      <td>de R$ 4.001/mês a R$ 6.000/mês</td>\n",
       "    </tr>\n",
       "    <tr>\n",
       "      <th>45</th>\n",
       "      <td>Cientista</td>\n",
       "      <td>Sênior</td>\n",
       "      <td>de R$ 6.001/mês a R$ 8.000/mês</td>\n",
       "    </tr>\n",
       "    <tr>\n",
       "      <th>49</th>\n",
       "      <td>Engenheiro</td>\n",
       "      <td>Sênior</td>\n",
       "      <td>de R$ 8.001/mês a R$ 12.000/mês</td>\n",
       "    </tr>\n",
       "    <tr>\n",
       "      <th>51</th>\n",
       "      <td>Cientista</td>\n",
       "      <td>Pleno</td>\n",
       "      <td>de R$ 6.001/mês a R$ 8.000/mês</td>\n",
       "    </tr>\n",
       "    <tr>\n",
       "      <th>53</th>\n",
       "      <td>Engenheiro</td>\n",
       "      <td>Pleno</td>\n",
       "      <td>de R$ 8.001/mês a R$ 12.000/mês</td>\n",
       "    </tr>\n",
       "    <tr>\n",
       "      <th>57</th>\n",
       "      <td>Analista</td>\n",
       "      <td>Sênior</td>\n",
       "      <td>de R$ 4.001/mês a R$ 6.000/mês</td>\n",
       "    </tr>\n",
       "    <tr>\n",
       "      <th>58</th>\n",
       "      <td>Engenheiro</td>\n",
       "      <td>Pleno</td>\n",
       "      <td>de R$ 8.001/mês a R$ 12.000/mês</td>\n",
       "    </tr>\n",
       "    <tr>\n",
       "      <th>61</th>\n",
       "      <td>Cientista</td>\n",
       "      <td>Sênior</td>\n",
       "      <td>de R$ 12.001/mês a R$ 16.000/mês</td>\n",
       "    </tr>\n",
       "  </tbody>\n",
       "</table>\n",
       "</div>"
      ],
      "text/plain": [
       "         Cargo Experiência                           Salário\n",
       "3    Cientista      Sênior  de R$ 12.001/mês a R$ 16.000/mês\n",
       "18  Engenheiro       Pleno    de R$ 6.001/mês a R$ 8.000/mês\n",
       "23  Engenheiro      Sênior  de R$ 12.001/mês a R$ 16.000/mês\n",
       "29   Cientista      Júnior   de R$ 8.001/mês a R$ 12.000/mês\n",
       "30    Analista      Júnior    de R$ 3.001/mês a R$ 4.000/mês\n",
       "31  Engenheiro      Júnior    de R$ 2.001/mês a R$ 3.000/mês\n",
       "37  Engenheiro      Júnior    de R$ 2.001/mês a R$ 3.000/mês\n",
       "41  Engenheiro      Júnior    de R$ 4.001/mês a R$ 6.000/mês\n",
       "45   Cientista      Sênior    de R$ 6.001/mês a R$ 8.000/mês\n",
       "49  Engenheiro      Sênior   de R$ 8.001/mês a R$ 12.000/mês\n",
       "51   Cientista       Pleno    de R$ 6.001/mês a R$ 8.000/mês\n",
       "53  Engenheiro       Pleno   de R$ 8.001/mês a R$ 12.000/mês\n",
       "57    Analista      Sênior    de R$ 4.001/mês a R$ 6.000/mês\n",
       "58  Engenheiro       Pleno   de R$ 8.001/mês a R$ 12.000/mês\n",
       "61   Cientista      Sênior  de R$ 12.001/mês a R$ 16.000/mês"
      ]
     },
     "execution_count": 9,
     "metadata": {},
     "output_type": "execute_result"
    }
   ],
   "source": [
    "labels = ['Analista', 'Cientista', 'Engenheiro']\n",
    "\n",
    "labels = dict(zip(positions, labels))\n",
    "\n",
    "data_table['Cargo'] = data_table['Cargo'].apply(lambda row: labels[row])\n",
    "\n",
    "data_table.head(n=15)"
   ]
  },
  {
   "cell_type": "code",
   "execution_count": 10,
   "id": "cdb6ba81",
   "metadata": {
    "execution": {
     "iopub.execute_input": "2024-03-23T02:10:23.259580Z",
     "iopub.status.busy": "2024-03-23T02:10:23.258558Z",
     "iopub.status.idle": "2024-03-23T02:10:23.277280Z",
     "shell.execute_reply": "2024-03-23T02:10:23.275948Z"
    },
    "papermill": {
     "duration": 0.039037,
     "end_time": "2024-03-23T02:10:23.280164",
     "exception": false,
     "start_time": "2024-03-23T02:10:23.241127",
     "status": "completed"
    },
    "tags": []
   },
   "outputs": [],
   "source": [
    "data_table.to_csv(\"data.csv\", header=True, index=False)"
   ]
  },
  {
   "cell_type": "markdown",
   "id": "91b60428",
   "metadata": {
    "papermill": {
     "duration": 0.014924,
     "end_time": "2024-03-23T02:10:23.310286",
     "exception": false,
     "start_time": "2024-03-23T02:10:23.295362",
     "status": "completed"
    },
    "tags": []
   },
   "source": [
    "# 4\\. Insights"
   ]
  },
  {
   "cell_type": "markdown",
   "id": "efa87196",
   "metadata": {
    "papermill": {
     "duration": 0.015062,
     "end_time": "2024-03-23T02:10:23.340444",
     "exception": false,
     "start_time": "2024-03-23T02:10:23.325382",
     "status": "completed"
    },
    "tags": []
   },
   "source": [
    "### 4\\.1\\. Análise da quantidade de pessoas por salário, cargo e nível de experiência"
   ]
  },
  {
   "cell_type": "markdown",
   "id": "62e7336e",
   "metadata": {
    "papermill": {
     "duration": 0.014784,
     "end_time": "2024-03-23T02:10:23.433086",
     "exception": false,
     "start_time": "2024-03-23T02:10:23.418302",
     "status": "completed"
    },
    "tags": []
   },
   "source": [
    "### Agrupamento e Agregações:\n",
    "\n",
    "A criação da coluna 'Quantidade' unitária, facilita o agrupamento e agregações."
   ]
  },
  {
   "cell_type": "code",
   "execution_count": 11,
   "id": "511b3173",
   "metadata": {
    "execution": {
     "iopub.execute_input": "2024-03-23T02:10:23.465166Z",
     "iopub.status.busy": "2024-03-23T02:10:23.464747Z",
     "iopub.status.idle": "2024-03-23T02:10:23.480178Z",
     "shell.execute_reply": "2024-03-23T02:10:23.478965Z"
    },
    "papermill": {
     "duration": 0.034577,
     "end_time": "2024-03-23T02:10:23.482723",
     "exception": false,
     "start_time": "2024-03-23T02:10:23.448146",
     "status": "completed"
    },
    "tags": []
   },
   "outputs": [
    {
     "data": {
      "text/html": [
       "<div>\n",
       "<style scoped>\n",
       "    .dataframe tbody tr th:only-of-type {\n",
       "        vertical-align: middle;\n",
       "    }\n",
       "\n",
       "    .dataframe tbody tr th {\n",
       "        vertical-align: top;\n",
       "    }\n",
       "\n",
       "    .dataframe thead th {\n",
       "        text-align: right;\n",
       "    }\n",
       "</style>\n",
       "<table border=\"1\" class=\"dataframe\">\n",
       "  <thead>\n",
       "    <tr style=\"text-align: right;\">\n",
       "      <th></th>\n",
       "      <th>Cargo</th>\n",
       "      <th>Experiência</th>\n",
       "      <th>Salário</th>\n",
       "      <th>Quantidade</th>\n",
       "    </tr>\n",
       "  </thead>\n",
       "  <tbody>\n",
       "    <tr>\n",
       "      <th>3</th>\n",
       "      <td>Cientista</td>\n",
       "      <td>Sênior</td>\n",
       "      <td>de R$ 12.001/mês a R$ 16.000/mês</td>\n",
       "      <td>1</td>\n",
       "    </tr>\n",
       "    <tr>\n",
       "      <th>18</th>\n",
       "      <td>Engenheiro</td>\n",
       "      <td>Pleno</td>\n",
       "      <td>de R$ 6.001/mês a R$ 8.000/mês</td>\n",
       "      <td>1</td>\n",
       "    </tr>\n",
       "    <tr>\n",
       "      <th>23</th>\n",
       "      <td>Engenheiro</td>\n",
       "      <td>Sênior</td>\n",
       "      <td>de R$ 12.001/mês a R$ 16.000/mês</td>\n",
       "      <td>1</td>\n",
       "    </tr>\n",
       "    <tr>\n",
       "      <th>29</th>\n",
       "      <td>Cientista</td>\n",
       "      <td>Júnior</td>\n",
       "      <td>de R$ 8.001/mês a R$ 12.000/mês</td>\n",
       "      <td>1</td>\n",
       "    </tr>\n",
       "    <tr>\n",
       "      <th>30</th>\n",
       "      <td>Analista</td>\n",
       "      <td>Júnior</td>\n",
       "      <td>de R$ 3.001/mês a R$ 4.000/mês</td>\n",
       "      <td>1</td>\n",
       "    </tr>\n",
       "    <tr>\n",
       "      <th>31</th>\n",
       "      <td>Engenheiro</td>\n",
       "      <td>Júnior</td>\n",
       "      <td>de R$ 2.001/mês a R$ 3.000/mês</td>\n",
       "      <td>1</td>\n",
       "    </tr>\n",
       "    <tr>\n",
       "      <th>37</th>\n",
       "      <td>Engenheiro</td>\n",
       "      <td>Júnior</td>\n",
       "      <td>de R$ 2.001/mês a R$ 3.000/mês</td>\n",
       "      <td>1</td>\n",
       "    </tr>\n",
       "    <tr>\n",
       "      <th>41</th>\n",
       "      <td>Engenheiro</td>\n",
       "      <td>Júnior</td>\n",
       "      <td>de R$ 4.001/mês a R$ 6.000/mês</td>\n",
       "      <td>1</td>\n",
       "    </tr>\n",
       "    <tr>\n",
       "      <th>45</th>\n",
       "      <td>Cientista</td>\n",
       "      <td>Sênior</td>\n",
       "      <td>de R$ 6.001/mês a R$ 8.000/mês</td>\n",
       "      <td>1</td>\n",
       "    </tr>\n",
       "    <tr>\n",
       "      <th>49</th>\n",
       "      <td>Engenheiro</td>\n",
       "      <td>Sênior</td>\n",
       "      <td>de R$ 8.001/mês a R$ 12.000/mês</td>\n",
       "      <td>1</td>\n",
       "    </tr>\n",
       "    <tr>\n",
       "      <th>51</th>\n",
       "      <td>Cientista</td>\n",
       "      <td>Pleno</td>\n",
       "      <td>de R$ 6.001/mês a R$ 8.000/mês</td>\n",
       "      <td>1</td>\n",
       "    </tr>\n",
       "    <tr>\n",
       "      <th>53</th>\n",
       "      <td>Engenheiro</td>\n",
       "      <td>Pleno</td>\n",
       "      <td>de R$ 8.001/mês a R$ 12.000/mês</td>\n",
       "      <td>1</td>\n",
       "    </tr>\n",
       "    <tr>\n",
       "      <th>57</th>\n",
       "      <td>Analista</td>\n",
       "      <td>Sênior</td>\n",
       "      <td>de R$ 4.001/mês a R$ 6.000/mês</td>\n",
       "      <td>1</td>\n",
       "    </tr>\n",
       "    <tr>\n",
       "      <th>58</th>\n",
       "      <td>Engenheiro</td>\n",
       "      <td>Pleno</td>\n",
       "      <td>de R$ 8.001/mês a R$ 12.000/mês</td>\n",
       "      <td>1</td>\n",
       "    </tr>\n",
       "    <tr>\n",
       "      <th>61</th>\n",
       "      <td>Cientista</td>\n",
       "      <td>Sênior</td>\n",
       "      <td>de R$ 12.001/mês a R$ 16.000/mês</td>\n",
       "      <td>1</td>\n",
       "    </tr>\n",
       "  </tbody>\n",
       "</table>\n",
       "</div>"
      ],
      "text/plain": [
       "         Cargo Experiência                           Salário  Quantidade\n",
       "3    Cientista      Sênior  de R$ 12.001/mês a R$ 16.000/mês           1\n",
       "18  Engenheiro       Pleno    de R$ 6.001/mês a R$ 8.000/mês           1\n",
       "23  Engenheiro      Sênior  de R$ 12.001/mês a R$ 16.000/mês           1\n",
       "29   Cientista      Júnior   de R$ 8.001/mês a R$ 12.000/mês           1\n",
       "30    Analista      Júnior    de R$ 3.001/mês a R$ 4.000/mês           1\n",
       "31  Engenheiro      Júnior    de R$ 2.001/mês a R$ 3.000/mês           1\n",
       "37  Engenheiro      Júnior    de R$ 2.001/mês a R$ 3.000/mês           1\n",
       "41  Engenheiro      Júnior    de R$ 4.001/mês a R$ 6.000/mês           1\n",
       "45   Cientista      Sênior    de R$ 6.001/mês a R$ 8.000/mês           1\n",
       "49  Engenheiro      Sênior   de R$ 8.001/mês a R$ 12.000/mês           1\n",
       "51   Cientista       Pleno    de R$ 6.001/mês a R$ 8.000/mês           1\n",
       "53  Engenheiro       Pleno   de R$ 8.001/mês a R$ 12.000/mês           1\n",
       "57    Analista      Sênior    de R$ 4.001/mês a R$ 6.000/mês           1\n",
       "58  Engenheiro       Pleno   de R$ 8.001/mês a R$ 12.000/mês           1\n",
       "61   Cientista      Sênior  de R$ 12.001/mês a R$ 16.000/mês           1"
      ]
     },
     "execution_count": 11,
     "metadata": {},
     "output_type": "execute_result"
    }
   ],
   "source": [
    "data_table['Quantidade'] = 1\n",
    "\n",
    "data_table.head(15)"
   ]
  },
  {
   "cell_type": "markdown",
   "id": "8521f490",
   "metadata": {
    "papermill": {
     "duration": 0.015684,
     "end_time": "2024-03-23T02:10:23.515136",
     "exception": false,
     "start_time": "2024-03-23T02:10:23.499452",
     "status": "completed"
    },
    "tags": []
   },
   "source": [
    "**Agregação por salário:**\n",
    "\n",
    "No primeiro nível de agregação, vamos contar quantos profissionais estão em cada faixa de salário."
   ]
  },
  {
   "cell_type": "code",
   "execution_count": 12,
   "id": "7c962c6d",
   "metadata": {
    "execution": {
     "iopub.execute_input": "2024-03-23T02:10:23.548461Z",
     "iopub.status.busy": "2024-03-23T02:10:23.547696Z",
     "iopub.status.idle": "2024-03-23T02:10:23.575048Z",
     "shell.execute_reply": "2024-03-23T02:10:23.573895Z"
    },
    "papermill": {
     "duration": 0.046603,
     "end_time": "2024-03-23T02:10:23.577364",
     "exception": false,
     "start_time": "2024-03-23T02:10:23.530761",
     "status": "completed"
    },
    "tags": []
   },
   "outputs": [
    {
     "data": {
      "text/html": [
       "<div>\n",
       "<style scoped>\n",
       "    .dataframe tbody tr th:only-of-type {\n",
       "        vertical-align: middle;\n",
       "    }\n",
       "\n",
       "    .dataframe tbody tr th {\n",
       "        vertical-align: top;\n",
       "    }\n",
       "\n",
       "    .dataframe thead th {\n",
       "        text-align: right;\n",
       "    }\n",
       "</style>\n",
       "<table border=\"1\" class=\"dataframe\">\n",
       "  <thead>\n",
       "    <tr style=\"text-align: right;\">\n",
       "      <th></th>\n",
       "      <th>Salário</th>\n",
       "      <th>Quantidade</th>\n",
       "    </tr>\n",
       "  </thead>\n",
       "  <tbody>\n",
       "    <tr>\n",
       "      <th>0</th>\n",
       "      <td>Acima de R$ 40.001/mês</td>\n",
       "      <td>12</td>\n",
       "    </tr>\n",
       "    <tr>\n",
       "      <th>1</th>\n",
       "      <td>Menos de R$ 1.000/mês</td>\n",
       "      <td>8</td>\n",
       "    </tr>\n",
       "    <tr>\n",
       "      <th>2</th>\n",
       "      <td>de R$ 1.001/mês a R$ 2.000/mês</td>\n",
       "      <td>59</td>\n",
       "    </tr>\n",
       "    <tr>\n",
       "      <th>3</th>\n",
       "      <td>de R$ 12.001/mês a R$ 16.000/mês</td>\n",
       "      <td>192</td>\n",
       "    </tr>\n",
       "    <tr>\n",
       "      <th>4</th>\n",
       "      <td>de R$ 16.001/mês a R$ 20.000/mês</td>\n",
       "      <td>49</td>\n",
       "    </tr>\n",
       "    <tr>\n",
       "      <th>5</th>\n",
       "      <td>de R$ 2.001/mês a R$ 3.000/mês</td>\n",
       "      <td>75</td>\n",
       "    </tr>\n",
       "    <tr>\n",
       "      <th>6</th>\n",
       "      <td>de R$ 20.001/mês a R$ 25.000/mês</td>\n",
       "      <td>24</td>\n",
       "    </tr>\n",
       "    <tr>\n",
       "      <th>7</th>\n",
       "      <td>de R$ 25.001/mês a R$ 30.000/mês</td>\n",
       "      <td>13</td>\n",
       "    </tr>\n",
       "    <tr>\n",
       "      <th>8</th>\n",
       "      <td>de R$ 3.001/mês a R$ 4.000/mês</td>\n",
       "      <td>89</td>\n",
       "    </tr>\n",
       "    <tr>\n",
       "      <th>9</th>\n",
       "      <td>de R$ 30.001/mês a R$ 40.000/mês</td>\n",
       "      <td>17</td>\n",
       "    </tr>\n",
       "    <tr>\n",
       "      <th>10</th>\n",
       "      <td>de R$ 4.001/mês a R$ 6.000/mês</td>\n",
       "      <td>244</td>\n",
       "    </tr>\n",
       "    <tr>\n",
       "      <th>11</th>\n",
       "      <td>de R$ 6.001/mês a R$ 8.000/mês</td>\n",
       "      <td>234</td>\n",
       "    </tr>\n",
       "    <tr>\n",
       "      <th>12</th>\n",
       "      <td>de R$ 8.001/mês a R$ 12.000/mês</td>\n",
       "      <td>320</td>\n",
       "    </tr>\n",
       "  </tbody>\n",
       "</table>\n",
       "</div>"
      ],
      "text/plain": [
       "                             Salário  Quantidade\n",
       "0             Acima de R$ 40.001/mês          12\n",
       "1              Menos de R$ 1.000/mês           8\n",
       "2     de R$ 1.001/mês a R$ 2.000/mês          59\n",
       "3   de R$ 12.001/mês a R$ 16.000/mês         192\n",
       "4   de R$ 16.001/mês a R$ 20.000/mês          49\n",
       "5     de R$ 2.001/mês a R$ 3.000/mês          75\n",
       "6   de R$ 20.001/mês a R$ 25.000/mês          24\n",
       "7   de R$ 25.001/mês a R$ 30.000/mês          13\n",
       "8     de R$ 3.001/mês a R$ 4.000/mês          89\n",
       "9   de R$ 30.001/mês a R$ 40.000/mês          17\n",
       "10    de R$ 4.001/mês a R$ 6.000/mês         244\n",
       "11    de R$ 6.001/mês a R$ 8.000/mês         234\n",
       "12   de R$ 8.001/mês a R$ 12.000/mês         320"
      ]
     },
     "execution_count": 12,
     "metadata": {},
     "output_type": "execute_result"
    }
   ],
   "source": [
    "salario_agg = data_table[['Salário', 'Quantidade']].groupby('Salário').agg('sum').reset_index()\n",
    "\n",
    "salario_agg.head(15)"
   ]
  },
  {
   "cell_type": "markdown",
   "id": "36567b06",
   "metadata": {
    "papermill": {
     "duration": 0.015383,
     "end_time": "2024-03-23T02:10:23.608623",
     "exception": false,
     "start_time": "2024-03-23T02:10:23.593240",
     "status": "completed"
    },
    "tags": []
   },
   "source": [
    "A coluna 'Salário' é uma coluna textual, portanto, não é numericamente ordenável.\n",
    "No entanto, podemos manualmente definir uma coluna artificial de ordenamento chamada 'salario_ordem'."
   ]
  },
  {
   "cell_type": "code",
   "execution_count": 13,
   "id": "ad539b9a",
   "metadata": {
    "execution": {
     "iopub.execute_input": "2024-03-23T02:10:23.643932Z",
     "iopub.status.busy": "2024-03-23T02:10:23.642557Z",
     "iopub.status.idle": "2024-03-23T02:10:23.658711Z",
     "shell.execute_reply": "2024-03-23T02:10:23.657879Z"
    },
    "papermill": {
     "duration": 0.03566,
     "end_time": "2024-03-23T02:10:23.660973",
     "exception": false,
     "start_time": "2024-03-23T02:10:23.625313",
     "status": "completed"
    },
    "tags": []
   },
   "outputs": [
    {
     "data": {
      "text/html": [
       "<div>\n",
       "<style scoped>\n",
       "    .dataframe tbody tr th:only-of-type {\n",
       "        vertical-align: middle;\n",
       "    }\n",
       "\n",
       "    .dataframe tbody tr th {\n",
       "        vertical-align: top;\n",
       "    }\n",
       "\n",
       "    .dataframe thead th {\n",
       "        text-align: right;\n",
       "    }\n",
       "</style>\n",
       "<table border=\"1\" class=\"dataframe\">\n",
       "  <thead>\n",
       "    <tr style=\"text-align: right;\">\n",
       "      <th></th>\n",
       "      <th>Salário</th>\n",
       "      <th>Quantidade</th>\n",
       "      <th>Ordem</th>\n",
       "    </tr>\n",
       "  </thead>\n",
       "  <tbody>\n",
       "    <tr>\n",
       "      <th>0</th>\n",
       "      <td>Acima de R$ 40.001/mês</td>\n",
       "      <td>12</td>\n",
       "      <td>12</td>\n",
       "    </tr>\n",
       "    <tr>\n",
       "      <th>1</th>\n",
       "      <td>Menos de R$ 1.000/mês</td>\n",
       "      <td>8</td>\n",
       "      <td>0</td>\n",
       "    </tr>\n",
       "    <tr>\n",
       "      <th>2</th>\n",
       "      <td>de R$ 1.001/mês a R$ 2.000/mês</td>\n",
       "      <td>59</td>\n",
       "      <td>1</td>\n",
       "    </tr>\n",
       "    <tr>\n",
       "      <th>3</th>\n",
       "      <td>de R$ 12.001/mês a R$ 16.000/mês</td>\n",
       "      <td>192</td>\n",
       "      <td>7</td>\n",
       "    </tr>\n",
       "    <tr>\n",
       "      <th>4</th>\n",
       "      <td>de R$ 16.001/mês a R$ 20.000/mês</td>\n",
       "      <td>49</td>\n",
       "      <td>8</td>\n",
       "    </tr>\n",
       "    <tr>\n",
       "      <th>5</th>\n",
       "      <td>de R$ 2.001/mês a R$ 3.000/mês</td>\n",
       "      <td>75</td>\n",
       "      <td>2</td>\n",
       "    </tr>\n",
       "    <tr>\n",
       "      <th>6</th>\n",
       "      <td>de R$ 20.001/mês a R$ 25.000/mês</td>\n",
       "      <td>24</td>\n",
       "      <td>9</td>\n",
       "    </tr>\n",
       "    <tr>\n",
       "      <th>7</th>\n",
       "      <td>de R$ 25.001/mês a R$ 30.000/mês</td>\n",
       "      <td>13</td>\n",
       "      <td>10</td>\n",
       "    </tr>\n",
       "    <tr>\n",
       "      <th>8</th>\n",
       "      <td>de R$ 3.001/mês a R$ 4.000/mês</td>\n",
       "      <td>89</td>\n",
       "      <td>3</td>\n",
       "    </tr>\n",
       "    <tr>\n",
       "      <th>9</th>\n",
       "      <td>de R$ 30.001/mês a R$ 40.000/mês</td>\n",
       "      <td>17</td>\n",
       "      <td>11</td>\n",
       "    </tr>\n",
       "    <tr>\n",
       "      <th>10</th>\n",
       "      <td>de R$ 4.001/mês a R$ 6.000/mês</td>\n",
       "      <td>244</td>\n",
       "      <td>4</td>\n",
       "    </tr>\n",
       "    <tr>\n",
       "      <th>11</th>\n",
       "      <td>de R$ 6.001/mês a R$ 8.000/mês</td>\n",
       "      <td>234</td>\n",
       "      <td>5</td>\n",
       "    </tr>\n",
       "    <tr>\n",
       "      <th>12</th>\n",
       "      <td>de R$ 8.001/mês a R$ 12.000/mês</td>\n",
       "      <td>320</td>\n",
       "      <td>6</td>\n",
       "    </tr>\n",
       "  </tbody>\n",
       "</table>\n",
       "</div>"
      ],
      "text/plain": [
       "                             Salário  Quantidade  Ordem\n",
       "0             Acima de R$ 40.001/mês          12     12\n",
       "1              Menos de R$ 1.000/mês           8      0\n",
       "2     de R$ 1.001/mês a R$ 2.000/mês          59      1\n",
       "3   de R$ 12.001/mês a R$ 16.000/mês         192      7\n",
       "4   de R$ 16.001/mês a R$ 20.000/mês          49      8\n",
       "5     de R$ 2.001/mês a R$ 3.000/mês          75      2\n",
       "6   de R$ 20.001/mês a R$ 25.000/mês          24      9\n",
       "7   de R$ 25.001/mês a R$ 30.000/mês          13     10\n",
       "8     de R$ 3.001/mês a R$ 4.000/mês          89      3\n",
       "9   de R$ 30.001/mês a R$ 40.000/mês          17     11\n",
       "10    de R$ 4.001/mês a R$ 6.000/mês         244      4\n",
       "11    de R$ 6.001/mês a R$ 8.000/mês         234      5\n",
       "12   de R$ 8.001/mês a R$ 12.000/mês         320      6"
      ]
     },
     "execution_count": 13,
     "metadata": {},
     "output_type": "execute_result"
    }
   ],
   "source": [
    "salario_ordem = {\n",
    "'Menos de R$ 1.000/mês': 0,\n",
    "'de R$ 1.001/mês a R$ 2.000/mês': 1,\n",
    "'de R$ 2.001/mês a R$ 3.000/mês': 2,\n",
    "'de R$ 3.001/mês a R$ 4.000/mês': 3,\n",
    "'de R$ 4.001/mês a R$ 6.000/mês': 4,\n",
    "'de R$ 6.001/mês a R$ 8.000/mês': 5,\n",
    "'de R$ 8.001/mês a R$ 12.000/mês': 6,\n",
    "'de R$ 12.001/mês a R$ 16.000/mês': 7,\n",
    "'de R$ 16.001/mês a R$ 20.000/mês': 8,\n",
    "'de R$ 20.001/mês a R$ 25.000/mês': 9,\n",
    "'de R$ 25.001/mês a R$ 30.000/mês': 10,\n",
    "'de R$ 30.001/mês a R$ 40.000/mês': 11,\n",
    "'Acima de R$ 40.001/mês': 12\n",
    "}\n",
    "\n",
    "salario_agg['Ordem'] = salario_agg['Salário'].apply(lambda row: salario_ordem[row])\n",
    "\n",
    "salario_agg.head(15)"
   ]
  },
  {
   "cell_type": "markdown",
   "id": "8661ff37",
   "metadata": {
    "papermill": {
     "duration": 0.015887,
     "end_time": "2024-03-23T02:10:23.693284",
     "exception": false,
     "start_time": "2024-03-23T02:10:23.677397",
     "status": "completed"
    },
    "tags": []
   },
   "source": [
    "Abaixo, ordenamos o salário corretamente."
   ]
  },
  {
   "cell_type": "code",
   "execution_count": 14,
   "id": "c6b7b1a0",
   "metadata": {
    "execution": {
     "iopub.execute_input": "2024-03-23T02:10:23.729626Z",
     "iopub.status.busy": "2024-03-23T02:10:23.728631Z",
     "iopub.status.idle": "2024-03-23T02:10:23.742913Z",
     "shell.execute_reply": "2024-03-23T02:10:23.741651Z"
    },
    "papermill": {
     "duration": 0.036287,
     "end_time": "2024-03-23T02:10:23.746037",
     "exception": false,
     "start_time": "2024-03-23T02:10:23.709750",
     "status": "completed"
    },
    "tags": []
   },
   "outputs": [
    {
     "data": {
      "text/html": [
       "<div>\n",
       "<style scoped>\n",
       "    .dataframe tbody tr th:only-of-type {\n",
       "        vertical-align: middle;\n",
       "    }\n",
       "\n",
       "    .dataframe tbody tr th {\n",
       "        vertical-align: top;\n",
       "    }\n",
       "\n",
       "    .dataframe thead th {\n",
       "        text-align: right;\n",
       "    }\n",
       "</style>\n",
       "<table border=\"1\" class=\"dataframe\">\n",
       "  <thead>\n",
       "    <tr style=\"text-align: right;\">\n",
       "      <th></th>\n",
       "      <th>Salário</th>\n",
       "      <th>Quantidade</th>\n",
       "      <th>Ordem</th>\n",
       "    </tr>\n",
       "  </thead>\n",
       "  <tbody>\n",
       "    <tr>\n",
       "      <th>1</th>\n",
       "      <td>Menos de R$ 1.000/mês</td>\n",
       "      <td>8</td>\n",
       "      <td>0</td>\n",
       "    </tr>\n",
       "    <tr>\n",
       "      <th>2</th>\n",
       "      <td>de R$ 1.001/mês a R$ 2.000/mês</td>\n",
       "      <td>59</td>\n",
       "      <td>1</td>\n",
       "    </tr>\n",
       "    <tr>\n",
       "      <th>5</th>\n",
       "      <td>de R$ 2.001/mês a R$ 3.000/mês</td>\n",
       "      <td>75</td>\n",
       "      <td>2</td>\n",
       "    </tr>\n",
       "    <tr>\n",
       "      <th>8</th>\n",
       "      <td>de R$ 3.001/mês a R$ 4.000/mês</td>\n",
       "      <td>89</td>\n",
       "      <td>3</td>\n",
       "    </tr>\n",
       "    <tr>\n",
       "      <th>10</th>\n",
       "      <td>de R$ 4.001/mês a R$ 6.000/mês</td>\n",
       "      <td>244</td>\n",
       "      <td>4</td>\n",
       "    </tr>\n",
       "    <tr>\n",
       "      <th>11</th>\n",
       "      <td>de R$ 6.001/mês a R$ 8.000/mês</td>\n",
       "      <td>234</td>\n",
       "      <td>5</td>\n",
       "    </tr>\n",
       "    <tr>\n",
       "      <th>12</th>\n",
       "      <td>de R$ 8.001/mês a R$ 12.000/mês</td>\n",
       "      <td>320</td>\n",
       "      <td>6</td>\n",
       "    </tr>\n",
       "    <tr>\n",
       "      <th>3</th>\n",
       "      <td>de R$ 12.001/mês a R$ 16.000/mês</td>\n",
       "      <td>192</td>\n",
       "      <td>7</td>\n",
       "    </tr>\n",
       "    <tr>\n",
       "      <th>4</th>\n",
       "      <td>de R$ 16.001/mês a R$ 20.000/mês</td>\n",
       "      <td>49</td>\n",
       "      <td>8</td>\n",
       "    </tr>\n",
       "    <tr>\n",
       "      <th>6</th>\n",
       "      <td>de R$ 20.001/mês a R$ 25.000/mês</td>\n",
       "      <td>24</td>\n",
       "      <td>9</td>\n",
       "    </tr>\n",
       "    <tr>\n",
       "      <th>7</th>\n",
       "      <td>de R$ 25.001/mês a R$ 30.000/mês</td>\n",
       "      <td>13</td>\n",
       "      <td>10</td>\n",
       "    </tr>\n",
       "    <tr>\n",
       "      <th>9</th>\n",
       "      <td>de R$ 30.001/mês a R$ 40.000/mês</td>\n",
       "      <td>17</td>\n",
       "      <td>11</td>\n",
       "    </tr>\n",
       "    <tr>\n",
       "      <th>0</th>\n",
       "      <td>Acima de R$ 40.001/mês</td>\n",
       "      <td>12</td>\n",
       "      <td>12</td>\n",
       "    </tr>\n",
       "  </tbody>\n",
       "</table>\n",
       "</div>"
      ],
      "text/plain": [
       "                             Salário  Quantidade  Ordem\n",
       "1              Menos de R$ 1.000/mês           8      0\n",
       "2     de R$ 1.001/mês a R$ 2.000/mês          59      1\n",
       "5     de R$ 2.001/mês a R$ 3.000/mês          75      2\n",
       "8     de R$ 3.001/mês a R$ 4.000/mês          89      3\n",
       "10    de R$ 4.001/mês a R$ 6.000/mês         244      4\n",
       "11    de R$ 6.001/mês a R$ 8.000/mês         234      5\n",
       "12   de R$ 8.001/mês a R$ 12.000/mês         320      6\n",
       "3   de R$ 12.001/mês a R$ 16.000/mês         192      7\n",
       "4   de R$ 16.001/mês a R$ 20.000/mês          49      8\n",
       "6   de R$ 20.001/mês a R$ 25.000/mês          24      9\n",
       "7   de R$ 25.001/mês a R$ 30.000/mês          13     10\n",
       "9   de R$ 30.001/mês a R$ 40.000/mês          17     11\n",
       "0             Acima de R$ 40.001/mês          12     12"
      ]
     },
     "execution_count": 14,
     "metadata": {},
     "output_type": "execute_result"
    }
   ],
   "source": [
    "salario_agg = salario_agg.sort_values(by='Ordem', ascending=True)\n",
    "\n",
    "salario_agg.head(15)"
   ]
  },
  {
   "cell_type": "markdown",
   "id": "d669779a",
   "metadata": {
    "papermill": {
     "duration": 0.019716,
     "end_time": "2024-03-23T02:10:23.787776",
     "exception": false,
     "start_time": "2024-03-23T02:10:23.768060",
     "status": "completed"
    },
    "tags": []
   },
   "source": [
    "**Agregação por salário e cargo:**\n",
    "\n",
    "No segundo nível de agregação, vamos contar quantos profissionais estão em cada faixa de salário por cargo."
   ]
  },
  {
   "cell_type": "code",
   "execution_count": 15,
   "id": "55deb5b4",
   "metadata": {
    "execution": {
     "iopub.execute_input": "2024-03-23T02:10:23.829249Z",
     "iopub.status.busy": "2024-03-23T02:10:23.828514Z",
     "iopub.status.idle": "2024-03-23T02:10:23.860981Z",
     "shell.execute_reply": "2024-03-23T02:10:23.859644Z"
    },
    "papermill": {
     "duration": 0.055473,
     "end_time": "2024-03-23T02:10:23.864257",
     "exception": false,
     "start_time": "2024-03-23T02:10:23.808784",
     "status": "completed"
    },
    "tags": []
   },
   "outputs": [
    {
     "data": {
      "text/html": [
       "<div>\n",
       "<style scoped>\n",
       "    .dataframe tbody tr th:only-of-type {\n",
       "        vertical-align: middle;\n",
       "    }\n",
       "\n",
       "    .dataframe tbody tr th {\n",
       "        vertical-align: top;\n",
       "    }\n",
       "\n",
       "    .dataframe thead th {\n",
       "        text-align: right;\n",
       "    }\n",
       "</style>\n",
       "<table border=\"1\" class=\"dataframe\">\n",
       "  <thead>\n",
       "    <tr style=\"text-align: right;\">\n",
       "      <th></th>\n",
       "      <th>Cargo</th>\n",
       "      <th>Salário</th>\n",
       "      <th>Quantidade</th>\n",
       "      <th>Ordem</th>\n",
       "    </tr>\n",
       "  </thead>\n",
       "  <tbody>\n",
       "    <tr>\n",
       "      <th>1</th>\n",
       "      <td>Analista</td>\n",
       "      <td>Menos de R$ 1.000/mês</td>\n",
       "      <td>4</td>\n",
       "      <td>0</td>\n",
       "    </tr>\n",
       "    <tr>\n",
       "      <th>2</th>\n",
       "      <td>Analista</td>\n",
       "      <td>de R$ 1.001/mês a R$ 2.000/mês</td>\n",
       "      <td>28</td>\n",
       "      <td>1</td>\n",
       "    </tr>\n",
       "    <tr>\n",
       "      <th>5</th>\n",
       "      <td>Analista</td>\n",
       "      <td>de R$ 2.001/mês a R$ 3.000/mês</td>\n",
       "      <td>36</td>\n",
       "      <td>2</td>\n",
       "    </tr>\n",
       "    <tr>\n",
       "      <th>8</th>\n",
       "      <td>Analista</td>\n",
       "      <td>de R$ 3.001/mês a R$ 4.000/mês</td>\n",
       "      <td>59</td>\n",
       "      <td>3</td>\n",
       "    </tr>\n",
       "    <tr>\n",
       "      <th>10</th>\n",
       "      <td>Analista</td>\n",
       "      <td>de R$ 4.001/mês a R$ 6.000/mês</td>\n",
       "      <td>122</td>\n",
       "      <td>4</td>\n",
       "    </tr>\n",
       "    <tr>\n",
       "      <th>11</th>\n",
       "      <td>Analista</td>\n",
       "      <td>de R$ 6.001/mês a R$ 8.000/mês</td>\n",
       "      <td>91</td>\n",
       "      <td>5</td>\n",
       "    </tr>\n",
       "    <tr>\n",
       "      <th>12</th>\n",
       "      <td>Analista</td>\n",
       "      <td>de R$ 8.001/mês a R$ 12.000/mês</td>\n",
       "      <td>106</td>\n",
       "      <td>6</td>\n",
       "    </tr>\n",
       "    <tr>\n",
       "      <th>3</th>\n",
       "      <td>Analista</td>\n",
       "      <td>de R$ 12.001/mês a R$ 16.000/mês</td>\n",
       "      <td>35</td>\n",
       "      <td>7</td>\n",
       "    </tr>\n",
       "    <tr>\n",
       "      <th>4</th>\n",
       "      <td>Analista</td>\n",
       "      <td>de R$ 16.001/mês a R$ 20.000/mês</td>\n",
       "      <td>6</td>\n",
       "      <td>8</td>\n",
       "    </tr>\n",
       "    <tr>\n",
       "      <th>6</th>\n",
       "      <td>Analista</td>\n",
       "      <td>de R$ 20.001/mês a R$ 25.000/mês</td>\n",
       "      <td>4</td>\n",
       "      <td>9</td>\n",
       "    </tr>\n",
       "    <tr>\n",
       "      <th>7</th>\n",
       "      <td>Analista</td>\n",
       "      <td>de R$ 25.001/mês a R$ 30.000/mês</td>\n",
       "      <td>2</td>\n",
       "      <td>10</td>\n",
       "    </tr>\n",
       "    <tr>\n",
       "      <th>9</th>\n",
       "      <td>Analista</td>\n",
       "      <td>de R$ 30.001/mês a R$ 40.000/mês</td>\n",
       "      <td>5</td>\n",
       "      <td>11</td>\n",
       "    </tr>\n",
       "    <tr>\n",
       "      <th>0</th>\n",
       "      <td>Analista</td>\n",
       "      <td>Acima de R$ 40.001/mês</td>\n",
       "      <td>1</td>\n",
       "      <td>12</td>\n",
       "    </tr>\n",
       "    <tr>\n",
       "      <th>14</th>\n",
       "      <td>Cientista</td>\n",
       "      <td>Menos de R$ 1.000/mês</td>\n",
       "      <td>4</td>\n",
       "      <td>0</td>\n",
       "    </tr>\n",
       "    <tr>\n",
       "      <th>15</th>\n",
       "      <td>Cientista</td>\n",
       "      <td>de R$ 1.001/mês a R$ 2.000/mês</td>\n",
       "      <td>16</td>\n",
       "      <td>1</td>\n",
       "    </tr>\n",
       "    <tr>\n",
       "      <th>18</th>\n",
       "      <td>Cientista</td>\n",
       "      <td>de R$ 2.001/mês a R$ 3.000/mês</td>\n",
       "      <td>24</td>\n",
       "      <td>2</td>\n",
       "    </tr>\n",
       "    <tr>\n",
       "      <th>21</th>\n",
       "      <td>Cientista</td>\n",
       "      <td>de R$ 3.001/mês a R$ 4.000/mês</td>\n",
       "      <td>18</td>\n",
       "      <td>3</td>\n",
       "    </tr>\n",
       "    <tr>\n",
       "      <th>23</th>\n",
       "      <td>Cientista</td>\n",
       "      <td>de R$ 4.001/mês a R$ 6.000/mês</td>\n",
       "      <td>59</td>\n",
       "      <td>4</td>\n",
       "    </tr>\n",
       "    <tr>\n",
       "      <th>24</th>\n",
       "      <td>Cientista</td>\n",
       "      <td>de R$ 6.001/mês a R$ 8.000/mês</td>\n",
       "      <td>82</td>\n",
       "      <td>5</td>\n",
       "    </tr>\n",
       "    <tr>\n",
       "      <th>25</th>\n",
       "      <td>Cientista</td>\n",
       "      <td>de R$ 8.001/mês a R$ 12.000/mês</td>\n",
       "      <td>99</td>\n",
       "      <td>6</td>\n",
       "    </tr>\n",
       "    <tr>\n",
       "      <th>16</th>\n",
       "      <td>Cientista</td>\n",
       "      <td>de R$ 12.001/mês a R$ 16.000/mês</td>\n",
       "      <td>77</td>\n",
       "      <td>7</td>\n",
       "    </tr>\n",
       "    <tr>\n",
       "      <th>17</th>\n",
       "      <td>Cientista</td>\n",
       "      <td>de R$ 16.001/mês a R$ 20.000/mês</td>\n",
       "      <td>26</td>\n",
       "      <td>8</td>\n",
       "    </tr>\n",
       "    <tr>\n",
       "      <th>19</th>\n",
       "      <td>Cientista</td>\n",
       "      <td>de R$ 20.001/mês a R$ 25.000/mês</td>\n",
       "      <td>9</td>\n",
       "      <td>9</td>\n",
       "    </tr>\n",
       "    <tr>\n",
       "      <th>20</th>\n",
       "      <td>Cientista</td>\n",
       "      <td>de R$ 25.001/mês a R$ 30.000/mês</td>\n",
       "      <td>4</td>\n",
       "      <td>10</td>\n",
       "    </tr>\n",
       "    <tr>\n",
       "      <th>22</th>\n",
       "      <td>Cientista</td>\n",
       "      <td>de R$ 30.001/mês a R$ 40.000/mês</td>\n",
       "      <td>9</td>\n",
       "      <td>11</td>\n",
       "    </tr>\n",
       "    <tr>\n",
       "      <th>13</th>\n",
       "      <td>Cientista</td>\n",
       "      <td>Acima de R$ 40.001/mês</td>\n",
       "      <td>5</td>\n",
       "      <td>12</td>\n",
       "    </tr>\n",
       "    <tr>\n",
       "      <th>27</th>\n",
       "      <td>Engenheiro</td>\n",
       "      <td>de R$ 1.001/mês a R$ 2.000/mês</td>\n",
       "      <td>15</td>\n",
       "      <td>1</td>\n",
       "    </tr>\n",
       "    <tr>\n",
       "      <th>30</th>\n",
       "      <td>Engenheiro</td>\n",
       "      <td>de R$ 2.001/mês a R$ 3.000/mês</td>\n",
       "      <td>15</td>\n",
       "      <td>2</td>\n",
       "    </tr>\n",
       "    <tr>\n",
       "      <th>33</th>\n",
       "      <td>Engenheiro</td>\n",
       "      <td>de R$ 3.001/mês a R$ 4.000/mês</td>\n",
       "      <td>12</td>\n",
       "      <td>3</td>\n",
       "    </tr>\n",
       "    <tr>\n",
       "      <th>35</th>\n",
       "      <td>Engenheiro</td>\n",
       "      <td>de R$ 4.001/mês a R$ 6.000/mês</td>\n",
       "      <td>63</td>\n",
       "      <td>4</td>\n",
       "    </tr>\n",
       "    <tr>\n",
       "      <th>36</th>\n",
       "      <td>Engenheiro</td>\n",
       "      <td>de R$ 6.001/mês a R$ 8.000/mês</td>\n",
       "      <td>61</td>\n",
       "      <td>5</td>\n",
       "    </tr>\n",
       "    <tr>\n",
       "      <th>37</th>\n",
       "      <td>Engenheiro</td>\n",
       "      <td>de R$ 8.001/mês a R$ 12.000/mês</td>\n",
       "      <td>115</td>\n",
       "      <td>6</td>\n",
       "    </tr>\n",
       "    <tr>\n",
       "      <th>28</th>\n",
       "      <td>Engenheiro</td>\n",
       "      <td>de R$ 12.001/mês a R$ 16.000/mês</td>\n",
       "      <td>80</td>\n",
       "      <td>7</td>\n",
       "    </tr>\n",
       "    <tr>\n",
       "      <th>29</th>\n",
       "      <td>Engenheiro</td>\n",
       "      <td>de R$ 16.001/mês a R$ 20.000/mês</td>\n",
       "      <td>17</td>\n",
       "      <td>8</td>\n",
       "    </tr>\n",
       "    <tr>\n",
       "      <th>31</th>\n",
       "      <td>Engenheiro</td>\n",
       "      <td>de R$ 20.001/mês a R$ 25.000/mês</td>\n",
       "      <td>11</td>\n",
       "      <td>9</td>\n",
       "    </tr>\n",
       "    <tr>\n",
       "      <th>32</th>\n",
       "      <td>Engenheiro</td>\n",
       "      <td>de R$ 25.001/mês a R$ 30.000/mês</td>\n",
       "      <td>7</td>\n",
       "      <td>10</td>\n",
       "    </tr>\n",
       "    <tr>\n",
       "      <th>34</th>\n",
       "      <td>Engenheiro</td>\n",
       "      <td>de R$ 30.001/mês a R$ 40.000/mês</td>\n",
       "      <td>3</td>\n",
       "      <td>11</td>\n",
       "    </tr>\n",
       "    <tr>\n",
       "      <th>26</th>\n",
       "      <td>Engenheiro</td>\n",
       "      <td>Acima de R$ 40.001/mês</td>\n",
       "      <td>6</td>\n",
       "      <td>12</td>\n",
       "    </tr>\n",
       "  </tbody>\n",
       "</table>\n",
       "</div>"
      ],
      "text/plain": [
       "         Cargo                           Salário  Quantidade  Ordem\n",
       "1     Analista             Menos de R$ 1.000/mês           4      0\n",
       "2     Analista    de R$ 1.001/mês a R$ 2.000/mês          28      1\n",
       "5     Analista    de R$ 2.001/mês a R$ 3.000/mês          36      2\n",
       "8     Analista    de R$ 3.001/mês a R$ 4.000/mês          59      3\n",
       "10    Analista    de R$ 4.001/mês a R$ 6.000/mês         122      4\n",
       "11    Analista    de R$ 6.001/mês a R$ 8.000/mês          91      5\n",
       "12    Analista   de R$ 8.001/mês a R$ 12.000/mês         106      6\n",
       "3     Analista  de R$ 12.001/mês a R$ 16.000/mês          35      7\n",
       "4     Analista  de R$ 16.001/mês a R$ 20.000/mês           6      8\n",
       "6     Analista  de R$ 20.001/mês a R$ 25.000/mês           4      9\n",
       "7     Analista  de R$ 25.001/mês a R$ 30.000/mês           2     10\n",
       "9     Analista  de R$ 30.001/mês a R$ 40.000/mês           5     11\n",
       "0     Analista            Acima de R$ 40.001/mês           1     12\n",
       "14   Cientista             Menos de R$ 1.000/mês           4      0\n",
       "15   Cientista    de R$ 1.001/mês a R$ 2.000/mês          16      1\n",
       "18   Cientista    de R$ 2.001/mês a R$ 3.000/mês          24      2\n",
       "21   Cientista    de R$ 3.001/mês a R$ 4.000/mês          18      3\n",
       "23   Cientista    de R$ 4.001/mês a R$ 6.000/mês          59      4\n",
       "24   Cientista    de R$ 6.001/mês a R$ 8.000/mês          82      5\n",
       "25   Cientista   de R$ 8.001/mês a R$ 12.000/mês          99      6\n",
       "16   Cientista  de R$ 12.001/mês a R$ 16.000/mês          77      7\n",
       "17   Cientista  de R$ 16.001/mês a R$ 20.000/mês          26      8\n",
       "19   Cientista  de R$ 20.001/mês a R$ 25.000/mês           9      9\n",
       "20   Cientista  de R$ 25.001/mês a R$ 30.000/mês           4     10\n",
       "22   Cientista  de R$ 30.001/mês a R$ 40.000/mês           9     11\n",
       "13   Cientista            Acima de R$ 40.001/mês           5     12\n",
       "27  Engenheiro    de R$ 1.001/mês a R$ 2.000/mês          15      1\n",
       "30  Engenheiro    de R$ 2.001/mês a R$ 3.000/mês          15      2\n",
       "33  Engenheiro    de R$ 3.001/mês a R$ 4.000/mês          12      3\n",
       "35  Engenheiro    de R$ 4.001/mês a R$ 6.000/mês          63      4\n",
       "36  Engenheiro    de R$ 6.001/mês a R$ 8.000/mês          61      5\n",
       "37  Engenheiro   de R$ 8.001/mês a R$ 12.000/mês         115      6\n",
       "28  Engenheiro  de R$ 12.001/mês a R$ 16.000/mês          80      7\n",
       "29  Engenheiro  de R$ 16.001/mês a R$ 20.000/mês          17      8\n",
       "31  Engenheiro  de R$ 20.001/mês a R$ 25.000/mês          11      9\n",
       "32  Engenheiro  de R$ 25.001/mês a R$ 30.000/mês           7     10\n",
       "34  Engenheiro  de R$ 30.001/mês a R$ 40.000/mês           3     11\n",
       "26  Engenheiro            Acima de R$ 40.001/mês           6     12"
      ]
     },
     "execution_count": 15,
     "metadata": {},
     "output_type": "execute_result"
    }
   ],
   "source": [
    "salario_cargo_agg = data_table[['Cargo', 'Salário', 'Quantidade']].groupby(['Cargo', 'Salário']).agg('sum').reset_index()\n",
    "\n",
    "salario_cargo_agg['Ordem'] = salario_cargo_agg['Salário'].apply(lambda row: salario_ordem[row])\n",
    "\n",
    "salario_cargo_agg = salario_cargo_agg.sort_values(by=['Cargo', 'Ordem'], ascending=[True, True])\n",
    "\n",
    "salario_cargo_agg.head(100)"
   ]
  },
  {
   "cell_type": "markdown",
   "id": "82b2d46a",
   "metadata": {
    "papermill": {
     "duration": 0.020063,
     "end_time": "2024-03-23T02:10:23.910039",
     "exception": false,
     "start_time": "2024-03-23T02:10:23.889976",
     "status": "completed"
    },
    "tags": []
   },
   "source": [
    "**Agregação por salário, cargo e experiência:**\n",
    "\n",
    "Por fim, no terceiro nível de agregação vamos contar quantos profissionais estão em cada faixa de salário por cargo e nivel de experiência."
   ]
  },
  {
   "cell_type": "code",
   "execution_count": 16,
   "id": "58fb61ed",
   "metadata": {
    "execution": {
     "iopub.execute_input": "2024-03-23T02:10:23.951961Z",
     "iopub.status.busy": "2024-03-23T02:10:23.951085Z",
     "iopub.status.idle": "2024-03-23T02:10:23.977889Z",
     "shell.execute_reply": "2024-03-23T02:10:23.976696Z"
    },
    "papermill": {
     "duration": 0.048939,
     "end_time": "2024-03-23T02:10:23.980657",
     "exception": false,
     "start_time": "2024-03-23T02:10:23.931718",
     "status": "completed"
    },
    "tags": []
   },
   "outputs": [
    {
     "data": {
      "text/html": [
       "<div>\n",
       "<style scoped>\n",
       "    .dataframe tbody tr th:only-of-type {\n",
       "        vertical-align: middle;\n",
       "    }\n",
       "\n",
       "    .dataframe tbody tr th {\n",
       "        vertical-align: top;\n",
       "    }\n",
       "\n",
       "    .dataframe thead th {\n",
       "        text-align: right;\n",
       "    }\n",
       "</style>\n",
       "<table border=\"1\" class=\"dataframe\">\n",
       "  <thead>\n",
       "    <tr style=\"text-align: right;\">\n",
       "      <th></th>\n",
       "      <th>Cargo</th>\n",
       "      <th>Experiência</th>\n",
       "      <th>Salário</th>\n",
       "      <th>Quantidade</th>\n",
       "      <th>Ordem</th>\n",
       "    </tr>\n",
       "  </thead>\n",
       "  <tbody>\n",
       "    <tr>\n",
       "      <th>0</th>\n",
       "      <td>Analista</td>\n",
       "      <td>Júnior</td>\n",
       "      <td>Menos de R$ 1.000/mês</td>\n",
       "      <td>4</td>\n",
       "      <td>0</td>\n",
       "    </tr>\n",
       "    <tr>\n",
       "      <th>1</th>\n",
       "      <td>Analista</td>\n",
       "      <td>Júnior</td>\n",
       "      <td>de R$ 1.001/mês a R$ 2.000/mês</td>\n",
       "      <td>26</td>\n",
       "      <td>1</td>\n",
       "    </tr>\n",
       "    <tr>\n",
       "      <th>2</th>\n",
       "      <td>Analista</td>\n",
       "      <td>Júnior</td>\n",
       "      <td>de R$ 2.001/mês a R$ 3.000/mês</td>\n",
       "      <td>34</td>\n",
       "      <td>2</td>\n",
       "    </tr>\n",
       "    <tr>\n",
       "      <th>3</th>\n",
       "      <td>Analista</td>\n",
       "      <td>Júnior</td>\n",
       "      <td>de R$ 3.001/mês a R$ 4.000/mês</td>\n",
       "      <td>46</td>\n",
       "      <td>3</td>\n",
       "    </tr>\n",
       "    <tr>\n",
       "      <th>4</th>\n",
       "      <td>Analista</td>\n",
       "      <td>Júnior</td>\n",
       "      <td>de R$ 4.001/mês a R$ 6.000/mês</td>\n",
       "      <td>54</td>\n",
       "      <td>4</td>\n",
       "    </tr>\n",
       "    <tr>\n",
       "      <th>5</th>\n",
       "      <td>Analista</td>\n",
       "      <td>Júnior</td>\n",
       "      <td>de R$ 6.001/mês a R$ 8.000/mês</td>\n",
       "      <td>12</td>\n",
       "      <td>5</td>\n",
       "    </tr>\n",
       "    <tr>\n",
       "      <th>6</th>\n",
       "      <td>Analista</td>\n",
       "      <td>Júnior</td>\n",
       "      <td>de R$ 8.001/mês a R$ 12.000/mês</td>\n",
       "      <td>1</td>\n",
       "      <td>6</td>\n",
       "    </tr>\n",
       "    <tr>\n",
       "      <th>7</th>\n",
       "      <td>Analista</td>\n",
       "      <td>Pleno</td>\n",
       "      <td>de R$ 1.001/mês a R$ 2.000/mês</td>\n",
       "      <td>1</td>\n",
       "      <td>1</td>\n",
       "    </tr>\n",
       "    <tr>\n",
       "      <th>10</th>\n",
       "      <td>Analista</td>\n",
       "      <td>Pleno</td>\n",
       "      <td>de R$ 2.001/mês a R$ 3.000/mês</td>\n",
       "      <td>2</td>\n",
       "      <td>2</td>\n",
       "    </tr>\n",
       "    <tr>\n",
       "      <th>13</th>\n",
       "      <td>Analista</td>\n",
       "      <td>Pleno</td>\n",
       "      <td>de R$ 3.001/mês a R$ 4.000/mês</td>\n",
       "      <td>12</td>\n",
       "      <td>3</td>\n",
       "    </tr>\n",
       "    <tr>\n",
       "      <th>14</th>\n",
       "      <td>Analista</td>\n",
       "      <td>Pleno</td>\n",
       "      <td>de R$ 4.001/mês a R$ 6.000/mês</td>\n",
       "      <td>60</td>\n",
       "      <td>4</td>\n",
       "    </tr>\n",
       "    <tr>\n",
       "      <th>15</th>\n",
       "      <td>Analista</td>\n",
       "      <td>Pleno</td>\n",
       "      <td>de R$ 6.001/mês a R$ 8.000/mês</td>\n",
       "      <td>56</td>\n",
       "      <td>5</td>\n",
       "    </tr>\n",
       "    <tr>\n",
       "      <th>16</th>\n",
       "      <td>Analista</td>\n",
       "      <td>Pleno</td>\n",
       "      <td>de R$ 8.001/mês a R$ 12.000/mês</td>\n",
       "      <td>47</td>\n",
       "      <td>6</td>\n",
       "    </tr>\n",
       "    <tr>\n",
       "      <th>8</th>\n",
       "      <td>Analista</td>\n",
       "      <td>Pleno</td>\n",
       "      <td>de R$ 12.001/mês a R$ 16.000/mês</td>\n",
       "      <td>5</td>\n",
       "      <td>7</td>\n",
       "    </tr>\n",
       "    <tr>\n",
       "      <th>9</th>\n",
       "      <td>Analista</td>\n",
       "      <td>Pleno</td>\n",
       "      <td>de R$ 16.001/mês a R$ 20.000/mês</td>\n",
       "      <td>1</td>\n",
       "      <td>8</td>\n",
       "    </tr>\n",
       "  </tbody>\n",
       "</table>\n",
       "</div>"
      ],
      "text/plain": [
       "       Cargo Experiência                           Salário  Quantidade  Ordem\n",
       "0   Analista      Júnior             Menos de R$ 1.000/mês           4      0\n",
       "1   Analista      Júnior    de R$ 1.001/mês a R$ 2.000/mês          26      1\n",
       "2   Analista      Júnior    de R$ 2.001/mês a R$ 3.000/mês          34      2\n",
       "3   Analista      Júnior    de R$ 3.001/mês a R$ 4.000/mês          46      3\n",
       "4   Analista      Júnior    de R$ 4.001/mês a R$ 6.000/mês          54      4\n",
       "5   Analista      Júnior    de R$ 6.001/mês a R$ 8.000/mês          12      5\n",
       "6   Analista      Júnior   de R$ 8.001/mês a R$ 12.000/mês           1      6\n",
       "7   Analista       Pleno    de R$ 1.001/mês a R$ 2.000/mês           1      1\n",
       "10  Analista       Pleno    de R$ 2.001/mês a R$ 3.000/mês           2      2\n",
       "13  Analista       Pleno    de R$ 3.001/mês a R$ 4.000/mês          12      3\n",
       "14  Analista       Pleno    de R$ 4.001/mês a R$ 6.000/mês          60      4\n",
       "15  Analista       Pleno    de R$ 6.001/mês a R$ 8.000/mês          56      5\n",
       "16  Analista       Pleno   de R$ 8.001/mês a R$ 12.000/mês          47      6\n",
       "8   Analista       Pleno  de R$ 12.001/mês a R$ 16.000/mês           5      7\n",
       "9   Analista       Pleno  de R$ 16.001/mês a R$ 20.000/mês           1      8"
      ]
     },
     "execution_count": 16,
     "metadata": {},
     "output_type": "execute_result"
    }
   ],
   "source": [
    "salario_cargo_experiencia_agg = data_table[['Cargo', 'Experiência', 'Salário', 'Quantidade']].groupby(['Cargo', 'Experiência', 'Salário']).agg('sum').reset_index()\n",
    "\n",
    "salario_cargo_experiencia_agg['Ordem'] = salario_cargo_experiencia_agg['Salário'].apply(lambda row: salario_ordem[row])\n",
    "\n",
    "salario_cargo_experiencia_agg = salario_cargo_experiencia_agg.sort_values(by=['Cargo', 'Experiência', 'Ordem'], ascending=[True, True, True])\n",
    "\n",
    "salario_cargo_experiencia_agg.head(15)"
   ]
  },
  {
   "cell_type": "markdown",
   "id": "43bde04a",
   "metadata": {
    "papermill": {
     "duration": 0.017515,
     "end_time": "2024-03-23T02:10:24.016336",
     "exception": false,
     "start_time": "2024-03-23T02:10:23.998821",
     "status": "completed"
    },
    "tags": []
   },
   "source": [
    "# 5\\. Visualização dos dados"
   ]
  },
  {
   "cell_type": "markdown",
   "id": "4be7ca54",
   "metadata": {
    "papermill": {
     "duration": 0.01736,
     "end_time": "2024-03-23T02:10:24.052131",
     "exception": false,
     "start_time": "2024-03-23T02:10:24.034771",
     "status": "completed"
    },
    "tags": []
   },
   "source": [
    "### 5\\.1\\. Visualização por salário\n",
    "\n",
    "Vamos utilizar o gráfico de barras para visualização. No primeiro nível, no eixo x temos o salário (representado pela sua ordem) e no eixo y, a quantidade de profissionais. A cor das barras e a legenda também representam a faixa de salário.\n",
    "\n",
    "Aqui vemos que, de maneira geral, o salário fica concentrado entre as categorias 4 e 7, portanto, de 3.000,00 a 16.000,00 por mês."
   ]
  },
  {
   "cell_type": "code",
   "execution_count": 17,
   "id": "29823d2d",
   "metadata": {
    "execution": {
     "iopub.execute_input": "2024-03-23T02:10:24.089762Z",
     "iopub.status.busy": "2024-03-23T02:10:24.088974Z",
     "iopub.status.idle": "2024-03-23T02:10:25.808459Z",
     "shell.execute_reply": "2024-03-23T02:10:25.807515Z"
    },
    "papermill": {
     "duration": 1.74113,
     "end_time": "2024-03-23T02:10:25.810820",
     "exception": false,
     "start_time": "2024-03-23T02:10:24.069690",
     "status": "completed"
    },
    "tags": []
   },
   "outputs": [
    {
     "data": {
      "image/png": "[encoded data removed]",
      "text/plain": [
       "<Figure size 640x480 with 1 Axes>"
      ]
     },
     "metadata": {},
     "output_type": "display_data"
    }
   ],
   "source": [
    "with sns.axes_style('whitegrid'):\n",
    "  plot = sns.barplot(data=salario_agg, x='Ordem', y='Quantidade', hue='Salário', palette='pastel')\n",
    "  plot.set_title('Faixa de Salários por Profissionais')\n",
    "  plot.set_ylabel('Quantidade de Profissionais')\n",
    "  plot.set_xlabel('Salário por Categoria')\n",
    "  plot.legend(loc='center left', bbox_to_anchor=(1, 0.5))"
   ]
  },
  {
   "cell_type": "markdown",
   "id": "3c845677",
   "metadata": {
    "papermill": {
     "duration": 0.018634,
     "end_time": "2024-03-23T02:10:25.848610",
     "exception": false,
     "start_time": "2024-03-23T02:10:25.829976",
     "status": "completed"
    },
    "tags": []
   },
   "source": [
    "### 5\\.2\\. Visualização por salário e cargo\n",
    "\n",
    "No segundo nível de agregação, incrementamos o gráfico anterior com a informação do cargo, possibilitando assim, analisar a distribuição dos salários separados por cargos.\n",
    "\n",
    "Levando em conta a faixa salarial de 8.000,00 a 12.000,00 como sendo uma faixa satisfatória dentro do mercado brasileiro, observamos que os salários dos profissionais de dados estão consideravelmente elevados. Isso é evidenciado pela presença significativa das barras correspondentes a essa faixa salarial nos três cargos analisados."
   ]
  },
  {
   "cell_type": "code",
   "execution_count": 18,
   "id": "ad712917",
   "metadata": {
    "execution": {
     "iopub.execute_input": "2024-03-23T02:10:25.888859Z",
     "iopub.status.busy": "2024-03-23T02:10:25.888031Z",
     "iopub.status.idle": "2024-03-23T02:10:26.837608Z",
     "shell.execute_reply": "2024-03-23T02:10:26.836705Z"
    },
    "papermill": {
     "duration": 0.973156,
     "end_time": "2024-03-23T02:10:26.840448",
     "exception": false,
     "start_time": "2024-03-23T02:10:25.867292",
     "status": "completed"
    },
    "tags": []
   },
   "outputs": [
    {
     "data": {
      "image/png": "[encoded data removed]",
      "text/plain": [
       "<Figure size 640x480 with 1 Axes>"
      ]
     },
     "metadata": {},
     "output_type": "display_data"
    }
   ],
   "source": [
    "with sns.axes_style('whitegrid'):\n",
    "  plot = sns.barplot(data=salario_cargo_agg, x='Cargo', y='Quantidade', hue='Salário', palette='pastel')\n",
    "  plot.set_title('Faixa de Salários por Cargos')\n",
    "  plot.set_ylabel('Quantidade de Profissionais')\n",
    "  plot.set_xlabel('Cargo')\n",
    "  plot.legend(loc='center left', bbox_to_anchor=(1, 0.5))"
   ]
  },
  {
   "cell_type": "markdown",
   "id": "da2b88f4",
   "metadata": {
    "papermill": {
     "duration": 0.020204,
     "end_time": "2024-03-23T02:10:26.881921",
     "exception": false,
     "start_time": "2024-03-23T02:10:26.861717",
     "status": "completed"
    },
    "tags": []
   },
   "source": [
    "### 5\\.3\\. Visualização por salário, cargo e nível de experiência\n",
    "\n",
    "Por fim, no terceiro nível, aplicamos a mesma técnica do gráfico anterior, mas agora distribuídos por experiência (eixo x) e cargo (DataFrame dedicado a cada cargo)."
   ]
  },
  {
   "cell_type": "markdown",
   "id": "8110bc8c",
   "metadata": {
    "papermill": {
     "duration": 0.019964,
     "end_time": "2024-03-23T02:10:26.923069",
     "exception": false,
     "start_time": "2024-03-23T02:10:26.903105",
     "status": "completed"
    },
    "tags": []
   },
   "source": [
    "**Analista de Dados:**"
   ]
  },
  {
   "cell_type": "code",
   "execution_count": 19,
   "id": "28f94116",
   "metadata": {
    "execution": {
     "iopub.execute_input": "2024-03-23T02:10:26.966875Z",
     "iopub.status.busy": "2024-03-23T02:10:26.965376Z",
     "iopub.status.idle": "2024-03-23T02:10:27.819560Z",
     "shell.execute_reply": "2024-03-23T02:10:27.818334Z"
    },
    "papermill": {
     "duration": 0.879116,
     "end_time": "2024-03-23T02:10:27.822464",
     "exception": false,
     "start_time": "2024-03-23T02:10:26.943348",
     "status": "completed"
    },
    "tags": []
   },
   "outputs": [
    {
     "data": {
      "image/png": "[encoded data removed]",
      "text/plain": [
       "<Figure size 640x480 with 1 Axes>"
      ]
     },
     "metadata": {},
     "output_type": "display_data"
    }
   ],
   "source": [
    "data = salario_cargo_experiencia_agg[salario_cargo_experiencia_agg['Cargo'] == 'Analista']\n",
    "\n",
    "with sns.axes_style('whitegrid'):\n",
    "  plot = sns.barplot(data=data, x='Experiência', y='Quantidade', hue='Salário', palette='pastel')\n",
    "  plot.set_title('Faixa de Salários por Níveis de Experiência - Analista de Dados')\n",
    "  plot.set_ylabel('Quantidade de Profissionais')\n",
    "  plot.set_xlabel('Nível de Experiência')\n",
    "  plot.legend(loc='center left', bbox_to_anchor=(1, 0.5))"
   ]
  },
  {
   "cell_type": "markdown",
   "id": "0a4e843d",
   "metadata": {
    "papermill": {
     "duration": 0.02156,
     "end_time": "2024-03-23T02:10:27.866517",
     "exception": false,
     "start_time": "2024-03-23T02:10:27.844957",
     "status": "completed"
    },
    "tags": []
   },
   "source": [
    "**Cientista de Dados:**"
   ]
  },
  {
   "cell_type": "code",
   "execution_count": 20,
   "id": "6a249b27",
   "metadata": {
    "execution": {
     "iopub.execute_input": "2024-03-23T02:10:27.911656Z",
     "iopub.status.busy": "2024-03-23T02:10:27.911185Z",
     "iopub.status.idle": "2024-03-23T02:10:28.753726Z",
     "shell.execute_reply": "2024-03-23T02:10:28.752214Z"
    },
    "papermill": {
     "duration": 0.868358,
     "end_time": "2024-03-23T02:10:28.756397",
     "exception": false,
     "start_time": "2024-03-23T02:10:27.888039",
     "status": "completed"
    },
    "tags": []
   },
   "outputs": [
    {
     "data": {
      "image/png": "[encoded data removed]",
      "text/plain": [
       "<Figure size 640x480 with 1 Axes>"
      ]
     },
     "metadata": {},
     "output_type": "display_data"
    }
   ],
   "source": [
    "data = salario_cargo_experiencia_agg[salario_cargo_experiencia_agg['Cargo'] == 'Cientista']\n",
    "\n",
    "with sns.axes_style('whitegrid'):\n",
    "  plot = sns.barplot(data=data, x='Experiência', y='Quantidade', hue='Salário', palette='pastel')\n",
    "  plot.set_title('Faixa de Salários por Níveis de Experiência - Cientista de Dados')\n",
    "  plot.set_ylabel('Quantidade de Profissionais')\n",
    "  plot.set_xlabel('Nível de Experiência')\n",
    "  plot.legend(loc='center left', bbox_to_anchor=(1, 0.5))"
   ]
  },
  {
   "cell_type": "markdown",
   "id": "40ec9d11",
   "metadata": {
    "papermill": {
     "duration": 0.024515,
     "end_time": "2024-03-23T02:10:28.803756",
     "exception": false,
     "start_time": "2024-03-23T02:10:28.779241",
     "status": "completed"
    },
    "tags": []
   },
   "source": [
    "**Engenheiro de Dados:**"
   ]
  },
  {
   "cell_type": "code",
   "execution_count": 21,
   "id": "880e454f",
   "metadata": {
    "execution": {
     "iopub.execute_input": "2024-03-23T02:10:28.852952Z",
     "iopub.status.busy": "2024-03-23T02:10:28.852270Z",
     "iopub.status.idle": "2024-03-23T02:10:29.680027Z",
     "shell.execute_reply": "2024-03-23T02:10:29.678827Z"
    },
    "papermill": {
     "duration": 0.855827,
     "end_time": "2024-03-23T02:10:29.682974",
     "exception": false,
     "start_time": "2024-03-23T02:10:28.827147",
     "status": "completed"
    },
    "tags": []
   },
   "outputs": [
    {
     "data": {
      "image/png": "[encoded data removed]",
      "text/plain": [
       "<Figure size 640x480 with 1 Axes>"
      ]
     },
     "metadata": {},
     "output_type": "display_data"
    }
   ],
   "source": [
    "data = salario_cargo_experiencia_agg[salario_cargo_experiencia_agg['Cargo'] == 'Engenheiro']\n",
    "\n",
    "with sns.axes_style('whitegrid'):\n",
    "  plot = sns.barplot(data=data, x='Experiência', y='Quantidade', hue='Salário', palette='pastel')\n",
    "  plot.set_title('Faixa de Salários por Níveis de Experiência - Engenheiro de Dados')\n",
    "  plot.set_ylabel('Quantidade de Profissionais')\n",
    "  plot.set_xlabel('Nível de Experiência')\n",
    "  plot.legend(loc='center left', bbox_to_anchor=(1, 0.5))\n",
    "  plot.legend(loc='center left', bbox_to_anchor=(1, 0.5))"
   ]
  },
  {
   "cell_type": "markdown",
   "id": "e49630ef",
   "metadata": {
    "papermill": {
     "duration": 0.023394,
     "end_time": "2024-03-23T02:10:29.730145",
     "exception": false,
     "start_time": "2024-03-23T02:10:29.706751",
     "status": "completed"
    },
    "tags": []
   },
   "source": [
    "# 6\\. Resultados"
   ]
  },
  {
   "cell_type": "markdown",
   "id": "3858bbe0",
   "metadata": {
    "papermill": {
     "duration": 0.023427,
     "end_time": "2024-03-23T02:10:29.777455",
     "exception": false,
     "start_time": "2024-03-23T02:10:29.754028",
     "status": "completed"
    },
    "tags": []
   },
   "source": [
    "**Alguns insights:**\n",
    "\n",
    "Um analista junior, recebe entre 2.000,00 a 6.000,00 por mês, majoritariamente. O sênior possui salários mais altos, na faixa entre 6.000,00 e 16.000,00, com um pico de 8.000,00 a 12.000,00 por mês. O analista pleno possui uma faixa salarial intermediária entre os outros 2 cargos, no geral e mantém um padrao de salário entre 4.000,00 e 8.000,00 por mês.\n",
    "\n",
    "O cientista júnior, comparado com analista junior, ganha um pouco mais, considerando as mesmas barras em cada gráfico. O pleno possui menos profissionais recebendo entre 6.000,00 a 12.000,00 do que um analista com a mesma experiência. Um cientista sênior possui uma predominância na faixa de salário referente a 16.000,00/20.000,00 comparado com um analista sênior. Existem mais cientistas de dados recebendo salários na faixa de 12.000,00 a 16.000,00 com nível de experiência sênior.\n",
    "\n",
    "Os outliers, de certa forma, se comportam de maneira parecida considerando analistas e cientistas.\n",
    "\n",
    "Um engenheiro junior parece que recebe um pouco menos do que um cientista junior. No pleno, conforme a experiência aumenta, o salário também aumenta bastante, como mostra a barra de faixa salarial referente a 8.000,00/12.000,00. O engenheiro sênior apresenta muito mais profissionais que recebem na faixa entre 12.000,00 e 16.000,00 do que um cientista sênior, por exemplo.\n",
    "\n",
    "Na profissão de engenheiro, os salários são menos distribuídos entre as experiências do que os cargos de analista e cientista. Essa profissão também apresenta mais picos salariais.\n",
    "\n",
    "Os gráficos se comportam, de maneira geral, dentro do conceito de distribuição normal ou Gaussiana, muito utilizada na inferência estatística, onde a função f(x) é uma curva simétrica, unimodal com forma de sino.\n",
    "\n",
    "Finalmente, é possivel perceber nos gráficos a movimentação salarial, conforme o profissional de dados avança na carreira, para cada uma das experiências."
   ]
  }
 ],
 "metadata": {
  "kaggle": {
   "accelerator": "none",
   "dataSources": [
    {
     "datasetId": 2994878,
     "sourceId": 5154266,
     "sourceType": "datasetVersion"
    }
   ],
   "dockerImageVersionId": 30673,
   "isGpuEnabled": false,
   "isInternetEnabled": true,
   "language": "python",
   "sourceType": "notebook"
  },
  "kernelspec": {
   "display_name": "Python 3",
   "language": "python",
   "name": "python3"
  },
  "language_info": {
   "codemirror_mode": {
    "name": "ipython",
    "version": 3
   },
   "file_extension": ".py",
   "mimetype": "text/x-python",
   "name": "python",
   "nbconvert_exporter": "python",
   "pygments_lexer": "ipython3",
   "version": "3.10.13"
  },
  "papermill": {
   "default_parameters": {},
   "duration": 14.534538,
   "end_time": "2024-03-23T02:10:30.425201",
   "environment_variables": {},
   "exception": null,
   "input_path": "__notebook__.ipynb",
   "output_path": "__notebook__.ipynb",
   "parameters": {},
   "start_time": "2024-03-23T02:10:15.890663",
   "version": "2.5.0"
  }
 },
 "nbformat": 4,
 "nbformat_minor": 5
}
